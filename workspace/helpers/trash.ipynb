{
 "cells": [
  {
   "cell_type": "code",
   "execution_count": null,
   "id": "2a417f2e-fc66-4966-96f5-15a173b184eb",
   "metadata": {},
   "outputs": [],
   "source": [
    "    # # Create a plot and display the image without showing it\n",
    "    # fig, ax = plt.subplots()\n",
    "    # ax.imshow(image.permute(1, 2, 0))\n",
    "    # ax.axis('off')  # Hide axes\n",
    "    \n",
    "    # # Save the image displayed in the notebook\n",
    "    # plt.savefig('original.png', bbox_inches='tight')\n",
    "    \n",
    "    # # Clear the current figure to avoid interference with subsequent plots\n",
    "    # plt.clf()\n",
    "    # fig, ax = plt.subplots()\n",
    "    # ax.imshow(cam)\n",
    "    # ax.axis('off')  # Hide axes\n",
    "    \n",
    "    # # Save the image displayed in the notebook\n",
    "    # plt.savefig('cam.png')\n",
    "    \n",
    "    # # Clear the current figure to avoid interference with subsequent plots\n",
    "    # plt.clf()"
   ]
  },
  {
   "cell_type": "code",
   "execution_count": null,
   "id": "a5f8bfd5-c85e-43a8-bb4d-ee9b0de35d0d",
   "metadata": {},
   "outputs": [],
   "source": [
    "\n",
    "    # print(\"For others class\")\n",
    "    # for i in range(cams.shape[0]): \n",
    "    #     if i == predicted_class:\n",
    "    #         continue\n",
    "    #     ca = cams[i]\n",
    "    #     ca = (ca - np.min(ca)) / (np.max(ca) - np.min(ca))\n",
    "    #     # Resize the CAM to match the original image size\n",
    "    #     cam2 = cv2.resize(ca, (image_tsf.shape[1], image_tsf.shape[2]))        \n",
    "    #     # Overlay the CAM on the original image\n",
    "    #     heatmap = cv2.applyColorMap(np.uint8(255 * cam2), cv2.COLORMAP_JET)\n",
    "    #     heatmap = cv2.cvtColor(heatmap, cv2.COLOR_BGR2RGB)\n",
    "    #     cam_overlay = cv2.addWeighted(heatmap, 0.5, image_np.astype(np.float32), 0.5, 0, dtype=cv2.CV_8U)\n",
    "        \n",
    "    #     # Visualize the original image, CAM, and overlay\n",
    "    #     fig, ax = plt.subplots(1, 3, figsize=(15, 5))\n",
    "    #     ax[0].imshow(ca, cmap='jet')\n",
    "    #     ax[0].set_title('Class Activation Map (CAM)')\n",
    "    #     ax[0].axis('off')\n",
    "    #     ax[1].imshow(cam2, cmap='jet')\n",
    "    #     ax[1].set_title('Class Activation Map (Upscaled)')\n",
    "    #     ax[1].axis('off')\n",
    "    #     ax[2].imshow(cam_overlay)\n",
    "    #     ax[2].set_title(f'CAM Overlay, Class: {id2label[i]}')\n",
    "    #     ax[2].axis('off')\n",
    "    #     plt.show()\n"
   ]
  }
 ],
 "metadata": {
  "kernelspec": {
   "display_name": "Python (jpt_env)",
   "language": "python",
   "name": "jupiter_env"
  },
  "language_info": {
   "codemirror_mode": {
    "name": "ipython",
    "version": 3
   },
   "file_extension": ".py",
   "mimetype": "text/x-python",
   "name": "python",
   "nbconvert_exporter": "python",
   "pygments_lexer": "ipython3",
   "version": "3.10.12"
  }
 },
 "nbformat": 4,
 "nbformat_minor": 5
}

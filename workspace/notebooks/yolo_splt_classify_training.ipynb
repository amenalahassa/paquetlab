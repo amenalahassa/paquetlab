{
 "cells": [
  {
   "cell_type": "code",
   "execution_count": 1,
   "id": "ebba3a0d-7eef-4848-a00b-9e06d5c80aa3",
   "metadata": {
    "editable": true,
    "slideshow": {
     "slide_type": ""
    },
    "tags": []
   },
   "outputs": [
    {
     "name": "stderr",
     "output_type": "stream",
     "text": [
      "INFO:albumentations.check_version:A new version of Albumentations is available: 1.4.14 (you have 1.4.12). Upgrade using: pip install -U albumentations. To disable automatic update checks, set the environment variable NO_ALBUMENTATIONS_UPDATE to 1.\n"
     ]
    }
   ],
   "source": [
    "import pandas as pd\n",
    "import matplotlib.pyplot as plt\n",
    "import re\n",
    "import sys\n",
    "import os\n",
    "from torchvision.transforms import v2\n",
    "import torch\n",
    "import shutil\n",
    "from PIL import Image\n",
    "from ultralytics import YOLO\n",
    "import cv2\n",
    "import pandas as pd\n",
    "from PIL import Image\n",
    "import random\n",
    "import albumentations as A\n",
    "from albumentations.pytorch import ToTensorV2\n",
    "import numpy as np\n",
    "from IPython.display import clear_output\n",
    "import yaml\n",
    "import os\n",
    "from PIL import Image\n",
    "\n",
    "\n",
    "\n",
    "# Local dep\n",
    "project_dir = '/data/konrad/workspace'\n",
    "sys.path.insert(0, project_dir)\n",
    "\n",
    "from helpers.datasets import CalfCenterFaceDataset\n",
    "from helpers.helpers import get_indices, uniform_sample_with_values, load_face_data"
   ]
  },
  {
   "cell_type": "code",
   "execution_count": 2,
   "id": "cf191360-2536-4052-a1ed-b2a26099c1bd",
   "metadata": {},
   "outputs": [],
   "source": [
    "def plot_bbox_gallery(image_df, n_cols=5):\n",
    "    n_images = image_df.shape[0]\n",
    "    n_rows = n_images // n_cols + int(n_images % n_cols > 0)\n",
    "    \n",
    "    plt.figure(figsize=(20, n_rows * 4))\n",
    "    for i, row in image_df.iterrows():\n",
    "        img = Image.open(row[\"path\"])\n",
    "        # plt.subplot(n_rows, n_cols, i + 1)\n",
    "        ax = plt.subplot(n_rows, n_cols, i + 1)\n",
    "        plt.imshow(img)\n",
    "        # ax = plt.gca()\n",
    "        score = row[\"conf\"]\n",
    "        box_x = row[\"box_x\"]\n",
    "        box_y = row[\"box_y\"]\n",
    "        box_width = row[\"box_width\"]\n",
    "        box_height = row[\"box_height\"]\n",
    "        box_x = box_x - (box_width / 2)\n",
    "        box_y = box_y - (box_height / 2)\n",
    "        rect = plt.Rectangle((box_x, box_y), box_width, box_height, edgecolor='r', facecolor='none')\n",
    "        ax.add_patch(rect)\n",
    "        plt.text(box_x, box_y - 10, f' {score:.2f}', color='red', fontsize=12, backgroundcolor='white')\n",
    "        plt.axis('off')\n",
    "    \n",
    "    plt.tight_layout()\n",
    "    plt.show()\n",
    "\n",
    "\n",
    "def apply_transformations(image, bbox, transforms, label_id):\n",
    "    transformed = transforms(image=image, bboxes=[bbox], category_ids=[label_id])\n",
    "    \n",
    "    transformed_image = transformed['image']\n",
    "    transformed_bbox = transformed['bboxes'][0]\n",
    "    \n",
    "    return transformed_image, transformed_bbox\n",
    "    \n",
    "def df_to_yolo(df, root_dir, label_col = \"label\", transforms = None, num_gen=3):\n",
    "    \n",
    "    img_path = root_dir + \"/\"\n",
    "    if not os.path.exists(img_path):\n",
    "        os.makedirs(img_path)\n",
    "\n",
    "    for index, row in df.iterrows():\n",
    "        # Extract the image name\n",
    "        image_label = row[label_col]\n",
    "        \n",
    "        lbl_path = img_path + \"/\" + image_label\n",
    "        if not os.path.exists(lbl_path):\n",
    "            os.makedirs(lbl_path)\n",
    "        \n",
    "        image_name = row['image']\n",
    "\n",
    "        img_src_dir = row['path']\n",
    "        \n",
    "        class_idx = row['target']\n",
    "\n",
    "        xmin = row['x_min']\n",
    "        ymin = row['y_min']\n",
    "        xmax = row['x_max']\n",
    "        ymax = row['y_max']\n",
    "\n",
    "        bbox = [xmin, ymin, xmax, ymax]\n",
    "\n",
    "        if transforms is None:\n",
    "\n",
    "            filename = os.path.splitext(image_name)[0]\n",
    "\n",
    "            # Open the image file\n",
    "            with Image.open(os.path.join(img_src_dir)) as img:\n",
    "            # Get the width and height\n",
    "                img_pil = img.crop((xmin, ymin, xmax, ymax))\n",
    "                img_pil.save(os.path.join(lbl_path, image_name))\n",
    "\n",
    "            continue\n",
    "\n",
    "        img = cv2.imread(img_src_dir)\n",
    "        \n",
    "        for i in range(num_gen):  # Apply transformations 5 times\n",
    "            transformed_image, transformed_bbox = apply_transformations(img, bbox, transforms, class_idx)\n",
    "            transformed_image_name = f\"{os.path.splitext(image_name)[0]}_transformed_{i}.jpg\"\n",
    "            \n",
    "            xmin, ymin, xmax, ymax = transformed_bbox\n",
    "            img_rgb = cv2.cvtColor(transformed_image, cv2.COLOR_BGR2RGB)\n",
    "            img_pil = Image.fromarray(img_rgb).crop((xmin, ymin, xmax, ymax))\n",
    "            img_pil.save(os.path.join(lbl_path, transformed_image_name))\n",
    "\n",
    "    print(\"Done !\")\n",
    "\n",
    "\n",
    "def delete_dir_if_exists(dir_path):\n",
    "    if os.path.exists(dir_path):\n",
    "        try:\n",
    "            shutil.rmtree(dir_path)\n",
    "            print(f\"Directory '{dir_path}' deleted\")\n",
    "        except OSError as e:\n",
    "            print(f\"Error deleting directory '{dir_path}': {e}\")\n",
    "\n",
    "def set_yml(file_name, data_path, id2label, train_dir = \"train\", test_dir = \"test\", val_dir = \"val\"):\n",
    "    \n",
    "    # Create the dictionary structure for YAML\n",
    "    yolo_detect_config = {\n",
    "        'path': data_path,\n",
    "        'train': train_dir,\n",
    "        'test': test_dir,\n",
    "        'val': val_dir,\n",
    "        'names': id2label\n",
    "    }\n",
    "    \n",
    "    # Define the output file path\n",
    "    yml_file_path = os.path.join(data_path, f\"{file_name}.yml\")\n",
    "    \n",
    "    # Write the YAML file\n",
    "    with open(yml_file_path, 'w') as yml_file:\n",
    "        yaml.dump(yolo_detect_config, yml_file, default_flow_style=False)\n",
    "        \n",
    "    print(\"Yml file set !\")\n",
    "    return yml_file_path"
   ]
  },
  {
   "cell_type": "code",
   "execution_count": 3,
   "id": "428afab2-bbe4-49a1-9bf1-83983c420bb7",
   "metadata": {
    "editable": true,
    "slideshow": {
     "slide_type": ""
    },
    "tags": []
   },
   "outputs": [],
   "source": [
    "ROOT_DIR = \"/data/konrad/workspace\"\n",
    "\n",
    "dataset_type = \"splt\"\n",
    "label_col = \"label\"\n",
    "\n",
    "num_labels = 3 if label_col == \"label\" else 1\n",
    "train_df = pd.read_csv(ROOT_DIR + f'/csv_files/mixed_10s_b0s_y7_1/{dataset_type}_train_image_extracted_metadata.csv', index_col=False)\n",
    "valid_df = pd.read_csv(ROOT_DIR + f'/csv_files/mixed_10s_b0s_y7_1/{dataset_type}_test_image_extracted_metadata.csv', index_col=False)\n",
    "test_df = pd.read_csv(ROOT_DIR + f'/csv_files/mixed_10s_b0s_y7_1/{dataset_type}_val_image_extracted_metadata.csv', index_col=False)\n",
    "labels = train_df[label_col].unique()\n",
    "label2id = {l:i for i, l in enumerate(labels)}\n",
    "id2label = {i:l for i, l in enumerate(labels)}\n",
    "train_df['target'] = train_df.apply(lambda row: label2id[row[label_col]], axis=1)\n",
    "test_df['target'] = test_df.apply(lambda row: label2id[row[label_col]], axis=1)\n",
    "valid_df['target'] = valid_df.apply(lambda row: label2id[row[label_col]], axis=1)\n",
    "# test_df = test_df.sample(frac=.10).reset_index(drop=True)\n",
    "\n",
    "IMAGE_DIR = ROOT_DIR + f\"/datasets/yolo_classify_{dataset_type}\"\n",
    "num_gen = 1"
   ]
  },
  {
   "cell_type": "code",
   "execution_count": 5,
   "id": "c8b48c11-08b0-4faa-9709-dd54848f681c",
   "metadata": {},
   "outputs": [
    {
     "name": "stdout",
     "output_type": "stream",
     "text": [
      "Directory '/data/konrad/workspace/datasets/yolo_classify_splt' deleted\n",
      "Done !\n",
      "Done !\n",
      "Done !\n",
      "New https://pypi.org/project/ultralytics/8.2.84 available 😃 Update with 'pip install -U ultralytics'\n",
      "Ultralytics YOLOv8.2.58 🚀 Python-3.10.12 torch-2.3.1+cu121 CUDA:0 (NVIDIA GeForce RTX 4090, 24115MiB)\n",
      "\u001b[34m\u001b[1mengine/trainer: \u001b[0mtask=classify, mode=train, model=yolov8m-cls.pt, data=/data/konrad/workspace/datasets/yolo_classify_splt, epochs=10, time=None, patience=100, batch=16, imgsz=224, save=True, save_period=-1, cache=False, device=None, workers=8, project=/data/konrad/workspace/training_log, name=yolo_classifier6, exist_ok=False, pretrained=True, optimizer=auto, verbose=True, seed=0, deterministic=True, single_cls=False, rect=False, cos_lr=False, close_mosaic=10, resume=False, amp=True, fraction=1.0, profile=False, freeze=None, multi_scale=False, overlap_mask=True, mask_ratio=4, dropout=0.0, val=True, split=val, save_json=False, save_hybrid=False, conf=None, iou=0.7, max_det=300, half=False, dnn=False, plots=True, source=None, vid_stride=1, stream_buffer=False, visualize=False, augment=False, agnostic_nms=False, classes=None, retina_masks=False, embed=None, show=False, save_frames=False, save_txt=False, save_conf=False, save_crop=False, show_labels=True, show_conf=True, show_boxes=True, line_width=None, format=torchscript, keras=False, optimize=False, int8=False, dynamic=False, simplify=False, opset=None, workspace=4, nms=False, lr0=0.01, lrf=0.01, momentum=0.937, weight_decay=0.0005, warmup_epochs=3.0, warmup_momentum=0.8, warmup_bias_lr=0.1, box=7.5, cls=0.5, dfl=1.5, pose=12.0, kobj=1.0, label_smoothing=0.0, nbs=64, hsv_h=0, hsv_s=0, hsv_v=0, degrees=0.0, translate=0, scale=0, shear=0.0, perspective=0.0, flipud=0.0, fliplr=0.8, bgr=0.0, mosaic=0, mixup=0.0, copy_paste=0.0, auto_augment=randaugment, erasing=0, crop_fraction=1, cfg=config.yml, tracker=botsort.yaml, save_dir=/data/konrad/workspace/training_log/yolo_classifier6\n",
      "\u001b[34m\u001b[1mtrain:\u001b[0m /data/konrad/workspace/datasets/yolo_classify_splt/train... found 5497 images in 3 classes ✅ \n",
      "\u001b[34m\u001b[1mval:\u001b[0m /data/konrad/workspace/datasets/yolo_classify_splt/val... found 283 images in 3 classes ✅ \n",
      "\u001b[34m\u001b[1mtest:\u001b[0m /data/konrad/workspace/datasets/yolo_classify_splt/test... found 1379 images in 3 classes ✅ \n",
      "Overriding model.yaml nc=1000 with nc=3\n",
      "\n",
      "                   from  n    params  module                                       arguments                     \n",
      "  0                  -1  1      1392  ultralytics.nn.modules.conv.Conv             [3, 48, 3, 2]                 \n",
      "  1                  -1  1     41664  ultralytics.nn.modules.conv.Conv             [48, 96, 3, 2]                \n",
      "  2                  -1  2    111360  ultralytics.nn.modules.block.C2f             [96, 96, 2, True]             \n",
      "  3                  -1  1    166272  ultralytics.nn.modules.conv.Conv             [96, 192, 3, 2]               \n",
      "  4                  -1  4    813312  ultralytics.nn.modules.block.C2f             [192, 192, 4, True]           \n",
      "  5                  -1  1    664320  ultralytics.nn.modules.conv.Conv             [192, 384, 3, 2]              \n",
      "  6                  -1  4   3248640  ultralytics.nn.modules.block.C2f             [384, 384, 4, True]           \n",
      "  7                  -1  1   2655744  ultralytics.nn.modules.conv.Conv             [384, 768, 3, 2]              \n",
      "  8                  -1  2   7084032  ultralytics.nn.modules.block.C2f             [768, 768, 2, True]           \n",
      "  9                  -1  1    989443  ultralytics.nn.modules.head.Classify         [768, 3]                      \n",
      "YOLOv8m-cls summary: 141 layers, 15,776,179 parameters, 15,776,179 gradients, 41.9 GFLOPs\n",
      "Transferred 228/230 items from pretrained weights\n",
      "\u001b[34m\u001b[1mTensorBoard: \u001b[0mStart with 'tensorboard --logdir /data/konrad/workspace/training_log/yolo_classifier6', view at http://localhost:6006/\n",
      "\u001b[34m\u001b[1mAMP: \u001b[0mrunning Automatic Mixed Precision (AMP) checks with YOLOv8n...\n",
      "\u001b[34m\u001b[1mAMP: \u001b[0mchecks passed ✅\n"
     ]
    },
    {
     "name": "stderr",
     "output_type": "stream",
     "text": [
      "\u001b[34m\u001b[1mtrain: \u001b[0mScanning /data/konrad/workspace/datasets/yolo_classify_splt/train... 5497 images, 0 corrupt: 100%|██████████| 549\u001b[0m"
     ]
    },
    {
     "name": "stdout",
     "output_type": "stream",
     "text": [
      "\u001b[34m\u001b[1mtrain: \u001b[0mNew cache created: /data/konrad/workspace/datasets/yolo_classify_splt/train.cache\n"
     ]
    },
    {
     "name": "stderr",
     "output_type": "stream",
     "text": [
      "\n",
      "\u001b[34m\u001b[1mval: \u001b[0mScanning /data/konrad/workspace/datasets/yolo_classify_splt/val... 283 images, 0 corrupt: 100%|██████████| 283/283 \u001b[0m"
     ]
    },
    {
     "name": "stdout",
     "output_type": "stream",
     "text": [
      "\u001b[34m\u001b[1mval: \u001b[0mNew cache created: /data/konrad/workspace/datasets/yolo_classify_splt/val.cache\n"
     ]
    },
    {
     "name": "stderr",
     "output_type": "stream",
     "text": [
      "\n"
     ]
    },
    {
     "name": "stdout",
     "output_type": "stream",
     "text": [
      "\u001b[34m\u001b[1moptimizer:\u001b[0m 'optimizer=auto' found, ignoring 'lr0=0.01' and 'momentum=0.937' and determining best 'optimizer', 'lr0' and 'momentum' automatically... \n",
      "\u001b[34m\u001b[1moptimizer:\u001b[0m AdamW(lr=0.000714, momentum=0.9) with parameter groups 38 weight(decay=0.0), 39 weight(decay=0.0005), 39 bias(decay=0.0)\n",
      "\u001b[34m\u001b[1mTensorBoard: \u001b[0mmodel graph visualization added ✅\n",
      "Image sizes 224 train, 224 val\n",
      "Using 8 dataloader workers\n",
      "Logging results to \u001b[1m/data/konrad/workspace/training_log/yolo_classifier6\u001b[0m\n",
      "Starting training for 10 epochs...\n",
      "\n",
      "      Epoch    GPU_mem       loss  Instances       Size\n"
     ]
    },
    {
     "name": "stderr",
     "output_type": "stream",
     "text": [
      "       1/10      1.14G     0.9168          9        224: 100%|██████████| 344/344 [00:09<00:00, 34.62it/s]\n",
      "               classes   top1_acc   top5_acc: 100%|██████████| 9/9 [00:00<00:00, 39.07it/s]"
     ]
    },
    {
     "name": "stdout",
     "output_type": "stream",
     "text": [
      "                   all      0.413          1\n"
     ]
    },
    {
     "name": "stderr",
     "output_type": "stream",
     "text": [
      "\n"
     ]
    },
    {
     "name": "stdout",
     "output_type": "stream",
     "text": [
      "\n",
      "      Epoch    GPU_mem       loss  Instances       Size\n"
     ]
    },
    {
     "name": "stderr",
     "output_type": "stream",
     "text": [
      "       2/10      1.18G     0.6768          9        224: 100%|██████████| 344/344 [00:08<00:00, 39.56it/s]\n",
      "               classes   top1_acc   top5_acc: 100%|██████████| 9/9 [00:00<00:00, 69.19it/s]"
     ]
    },
    {
     "name": "stdout",
     "output_type": "stream",
     "text": [
      "                   all       0.41          1\n"
     ]
    },
    {
     "name": "stderr",
     "output_type": "stream",
     "text": [
      "\n"
     ]
    },
    {
     "name": "stdout",
     "output_type": "stream",
     "text": [
      "\n",
      "      Epoch    GPU_mem       loss  Instances       Size\n"
     ]
    },
    {
     "name": "stderr",
     "output_type": "stream",
     "text": [
      "       3/10      1.16G     0.5174          9        224: 100%|██████████| 344/344 [00:06<00:00, 51.04it/s]\n",
      "               classes   top1_acc   top5_acc: 100%|██████████| 9/9 [00:00<00:00, 111.72it/s]"
     ]
    },
    {
     "name": "stdout",
     "output_type": "stream",
     "text": [
      "                   all      0.431          1\n"
     ]
    },
    {
     "name": "stderr",
     "output_type": "stream",
     "text": [
      "\n"
     ]
    },
    {
     "name": "stdout",
     "output_type": "stream",
     "text": [
      "\n",
      "      Epoch    GPU_mem       loss  Instances       Size\n"
     ]
    },
    {
     "name": "stderr",
     "output_type": "stream",
     "text": [
      "       4/10      1.16G     0.4031          9        224: 100%|██████████| 344/344 [00:07<00:00, 43.13it/s]\n",
      "               classes   top1_acc   top5_acc: 100%|██████████| 9/9 [00:00<00:00, 70.41it/s]"
     ]
    },
    {
     "name": "stdout",
     "output_type": "stream",
     "text": [
      "                   all      0.449          1\n"
     ]
    },
    {
     "name": "stderr",
     "output_type": "stream",
     "text": [
      "\n"
     ]
    },
    {
     "name": "stdout",
     "output_type": "stream",
     "text": [
      "\n",
      "      Epoch    GPU_mem       loss  Instances       Size\n"
     ]
    },
    {
     "name": "stderr",
     "output_type": "stream",
     "text": [
      "       5/10      1.16G     0.2729          9        224: 100%|██████████| 344/344 [00:08<00:00, 41.84it/s]\n",
      "               classes   top1_acc   top5_acc: 100%|██████████| 9/9 [00:00<00:00, 78.93it/s]"
     ]
    },
    {
     "name": "stdout",
     "output_type": "stream",
     "text": [
      "                   all      0.452          1\n"
     ]
    },
    {
     "name": "stderr",
     "output_type": "stream",
     "text": [
      "\n"
     ]
    },
    {
     "name": "stdout",
     "output_type": "stream",
     "text": [
      "\n",
      "      Epoch    GPU_mem       loss  Instances       Size\n"
     ]
    },
    {
     "name": "stderr",
     "output_type": "stream",
     "text": [
      "       6/10      1.16G     0.1979          9        224: 100%|██████████| 344/344 [00:08<00:00, 42.01it/s]\n",
      "               classes   top1_acc   top5_acc: 100%|██████████| 9/9 [00:00<00:00, 111.32it/s]"
     ]
    },
    {
     "name": "stdout",
     "output_type": "stream",
     "text": [
      "                   all      0.406          1\n"
     ]
    },
    {
     "name": "stderr",
     "output_type": "stream",
     "text": [
      "\n"
     ]
    },
    {
     "name": "stdout",
     "output_type": "stream",
     "text": [
      "\n",
      "      Epoch    GPU_mem       loss  Instances       Size\n"
     ]
    },
    {
     "name": "stderr",
     "output_type": "stream",
     "text": [
      "       7/10      1.16G     0.1201          9        224: 100%|██████████| 344/344 [00:08<00:00, 41.76it/s]\n",
      "               classes   top1_acc   top5_acc: 100%|██████████| 9/9 [00:00<00:00, 67.29it/s]"
     ]
    },
    {
     "name": "stdout",
     "output_type": "stream",
     "text": [
      "                   all       0.41          1\n"
     ]
    },
    {
     "name": "stderr",
     "output_type": "stream",
     "text": [
      "\n"
     ]
    },
    {
     "name": "stdout",
     "output_type": "stream",
     "text": [
      "\n",
      "      Epoch    GPU_mem       loss  Instances       Size\n"
     ]
    },
    {
     "name": "stderr",
     "output_type": "stream",
     "text": [
      "       8/10      1.16G    0.09029          9        224: 100%|██████████| 344/344 [00:08<00:00, 42.00it/s]\n",
      "               classes   top1_acc   top5_acc: 100%|██████████| 9/9 [00:00<00:00, 76.37it/s]"
     ]
    },
    {
     "name": "stdout",
     "output_type": "stream",
     "text": [
      "                   all      0.399          1\n"
     ]
    },
    {
     "name": "stderr",
     "output_type": "stream",
     "text": [
      "\n"
     ]
    },
    {
     "name": "stdout",
     "output_type": "stream",
     "text": [
      "\n",
      "      Epoch    GPU_mem       loss  Instances       Size\n"
     ]
    },
    {
     "name": "stderr",
     "output_type": "stream",
     "text": [
      "       9/10      1.16G    0.07384          9        224: 100%|██████████| 344/344 [00:08<00:00, 40.89it/s]\n",
      "               classes   top1_acc   top5_acc: 100%|██████████| 9/9 [00:00<00:00, 63.18it/s]"
     ]
    },
    {
     "name": "stdout",
     "output_type": "stream",
     "text": [
      "                   all      0.371          1\n"
     ]
    },
    {
     "name": "stderr",
     "output_type": "stream",
     "text": [
      "\n"
     ]
    },
    {
     "name": "stdout",
     "output_type": "stream",
     "text": [
      "\n",
      "      Epoch    GPU_mem       loss  Instances       Size\n"
     ]
    },
    {
     "name": "stderr",
     "output_type": "stream",
     "text": [
      "      10/10      1.16G    0.06277          9        224: 100%|██████████| 344/344 [00:08<00:00, 41.57it/s]\n",
      "               classes   top1_acc   top5_acc: 100%|██████████| 9/9 [00:00<00:00, 74.28it/s]"
     ]
    },
    {
     "name": "stdout",
     "output_type": "stream",
     "text": [
      "                   all      0.378          1\n"
     ]
    },
    {
     "name": "stderr",
     "output_type": "stream",
     "text": [
      "\n"
     ]
    },
    {
     "name": "stdout",
     "output_type": "stream",
     "text": [
      "\n",
      "10 epochs completed in 0.025 hours.\n",
      "Optimizer stripped from /data/konrad/workspace/training_log/yolo_classifier6/weights/last.pt, 31.7MB\n",
      "Optimizer stripped from /data/konrad/workspace/training_log/yolo_classifier6/weights/best.pt, 31.7MB\n",
      "\n",
      "Validating /data/konrad/workspace/training_log/yolo_classifier6/weights/best.pt...\n",
      "Ultralytics YOLOv8.2.58 🚀 Python-3.10.12 torch-2.3.1+cu121 CUDA:0 (NVIDIA GeForce RTX 4090, 24115MiB)\n",
      "YOLOv8m-cls summary (fused): 103 layers, 15,766,499 parameters, 0 gradients, 41.6 GFLOPs\n",
      "\u001b[34m\u001b[1mtrain:\u001b[0m /data/konrad/workspace/datasets/yolo_classify_splt/train... found 5497 images in 3 classes ✅ \n",
      "\u001b[34m\u001b[1mval:\u001b[0m /data/konrad/workspace/datasets/yolo_classify_splt/val... found 283 images in 3 classes ✅ \n",
      "\u001b[34m\u001b[1mtest:\u001b[0m /data/konrad/workspace/datasets/yolo_classify_splt/test... found 1379 images in 3 classes ✅ \n"
     ]
    },
    {
     "name": "stderr",
     "output_type": "stream",
     "text": [
      "               classes   top1_acc   top5_acc: 100%|██████████| 9/9 [00:00<00:00, 22.38it/s]\n"
     ]
    },
    {
     "name": "stdout",
     "output_type": "stream",
     "text": [
      "                   all      0.452          1\n",
      "Speed: 0.2ms preprocess, 0.6ms inference, 0.0ms loss, 0.0ms postprocess per image\n",
      "Results saved to \u001b[1m/data/konrad/workspace/training_log/yolo_classifier6\u001b[0m\n",
      "Results saved to \u001b[1m/data/konrad/workspace/training_log/yolo_classifier6\u001b[0m\n",
      "Ultralytics YOLOv8.2.58 🚀 Python-3.10.12 torch-2.3.1+cu121 CPU (AMD Ryzen Threadripper PRO 5975WX 32-Cores)\n",
      "YOLOv8m-cls summary (fused): 103 layers, 15,766,499 parameters, 0 gradients, 41.6 GFLOPs\n",
      "\n",
      "\u001b[34m\u001b[1mPyTorch:\u001b[0m starting from '/data/konrad/workspace/training_log/yolo_classifier6/weights/best.pt' with input shape (1, 3, 224, 224) BCHW and output shape(s) (1, 3) (30.2 MB)\n",
      "\n",
      "\u001b[34m\u001b[1mTorchScript:\u001b[0m starting export with torch 2.3.1+cu121...\n",
      "\u001b[34m\u001b[1mTorchScript:\u001b[0m export success ✅ 0.5s, saved as '/data/konrad/workspace/training_log/yolo_classifier6/weights/best.torchscript' (60.4 MB)\n",
      "\n",
      "Export complete (1.8s)\n",
      "Results saved to \u001b[1m/data/konrad/workspace/training_log/yolo_classifier6/weights\u001b[0m\n",
      "Predict:         yolo predict task=classify model=/data/konrad/workspace/training_log/yolo_classifier6/weights/best.torchscript imgsz=224  \n",
      "Validate:        yolo val task=classify model=/data/konrad/workspace/training_log/yolo_classifier6/weights/best.torchscript imgsz=224 data=/data/konrad/workspace/datasets/yolo_classify_splt  \n",
      "Visualize:       https://netron.app\n"
     ]
    },
    {
     "data": {
      "text/plain": [
       "'/data/konrad/workspace/training_log/yolo_classifier6/weights/best.torchscript'"
      ]
     },
     "execution_count": 5,
     "metadata": {},
     "output_type": "execute_result"
    }
   ],
   "source": [
    "transforms = A.Compose([\n",
    "    A.Rotate(limit=(10, 20), p=.7),\n",
    "    A.OneOf([\n",
    "        A.GaussianBlur(blur_limit=(3,9), p=.7),\n",
    "        A.MedianBlur(blur_limit=7, p=.7),\n",
    "    ], p=.6),\n",
    "    A.Sharpen(p=.7),\n",
    "], bbox_params=A.BboxParams(format='pascal_voc', label_fields=['category_ids']))\n",
    "\n",
    "\n",
    "delete_dir_if_exists(IMAGE_DIR)\n",
    "df_to_yolo(train_df, IMAGE_DIR + '/train', transforms = transforms, num_gen=num_gen)\n",
    "# df_to_yolo(train_df, IMAGE_DIR + '/train', img_src_dir = IMAGE_DIR, transforms = None, num_gen=num_gen)\n",
    "df_to_yolo(valid_df, IMAGE_DIR + '/val')\n",
    "df_to_yolo(test_df, IMAGE_DIR + '/test')\n",
    "\n",
    "# Load a model\n",
    "model = YOLO(\"yolov8m-cls.pt\")  # load a pretrained model (recommended for training)\n",
    "epoch = 10\n",
    "\n",
    "model_name = \"yolo_classifier\"\n",
    "# yml_file_path = set_yml(f\"{model_name}_{dataset_type}\", IMAGE_DIR, id2label)\n",
    "results = model.train(data=IMAGE_DIR, epochs=epoch, project=ROOT_DIR + \"/training_log\", name=model_name, cfg=\"config.yml\")\n",
    "# results = model.train(data=\"yolo_detect.yml\", epochs=epoch, project=ROOT_DIR + \"/training_log\", name=\"yolo_detect\")\n",
    "# results = model.val(data=IMAGE_DIR, split='test')  # Evaluate on test set\n",
    "\n",
    "model.export()"
   ]
  },
  {
   "cell_type": "code",
   "execution_count": 4,
   "id": "2c44195e-5516-45cb-af31-0271d95d6bd2",
   "metadata": {
    "editable": true,
    "slideshow": {
     "slide_type": ""
    },
    "tags": []
   },
   "outputs": [
    {
     "name": "stdout",
     "output_type": "stream",
     "text": [
      "Directory '/data/konrad/workspace/datasets/yolo_classify_splt' deleted\n",
      "Done !\n",
      "Done !\n",
      "Done !\n",
      "New https://pypi.org/project/ultralytics/8.2.83 available 😃 Update with 'pip install -U ultralytics'\n",
      "Ultralytics YOLOv8.2.58 🚀 Python-3.10.12 torch-2.3.1+cu121 CUDA:0 (NVIDIA GeForce RTX 4090, 24115MiB)\n",
      "\u001b[34m\u001b[1mengine/trainer: \u001b[0mtask=classify, mode=train, model=yolov8m-cls.pt, data=/data/konrad/workspace/datasets/yolo_classify_splt, epochs=10, time=None, patience=100, batch=16, imgsz=224, save=True, save_period=-1, cache=False, device=None, workers=8, project=/data/konrad/workspace/training_log, name=yolo_classifier4, exist_ok=False, pretrained=True, optimizer=auto, verbose=True, seed=0, deterministic=True, single_cls=False, rect=False, cos_lr=False, close_mosaic=10, resume=False, amp=True, fraction=1.0, profile=False, freeze=None, multi_scale=False, overlap_mask=True, mask_ratio=4, dropout=0.0, val=True, split=val, save_json=False, save_hybrid=False, conf=None, iou=0.7, max_det=300, half=False, dnn=False, plots=True, source=None, vid_stride=1, stream_buffer=False, visualize=False, augment=False, agnostic_nms=False, classes=None, retina_masks=False, embed=None, show=False, save_frames=False, save_txt=False, save_conf=False, save_crop=False, show_labels=True, show_conf=True, show_boxes=True, line_width=None, format=torchscript, keras=False, optimize=False, int8=False, dynamic=False, simplify=False, opset=None, workspace=4, nms=False, lr0=0.01, lrf=0.01, momentum=0.937, weight_decay=0.0005, warmup_epochs=3.0, warmup_momentum=0.8, warmup_bias_lr=0.1, box=7.5, cls=0.5, dfl=1.5, pose=12.0, kobj=1.0, label_smoothing=0.0, nbs=64, hsv_h=0.015, hsv_s=0.7, hsv_v=0.4, degrees=0.0, translate=0.1, scale=0.5, shear=0.0, perspective=0.0, flipud=0.0, fliplr=0.5, bgr=0.0, mosaic=1.0, mixup=0.0, copy_paste=0.0, auto_augment=randaugment, erasing=0.4, crop_fraction=1.0, cfg=None, tracker=botsort.yaml, save_dir=/data/konrad/workspace/training_log/yolo_classifier4\n",
      "\u001b[34m\u001b[1mtrain:\u001b[0m /data/konrad/workspace/datasets/yolo_classify_splt/train... found 5497 images in 3 classes ✅ \n",
      "\u001b[34m\u001b[1mval:\u001b[0m /data/konrad/workspace/datasets/yolo_classify_splt/val... found 1379 images in 3 classes ✅ \n",
      "\u001b[34m\u001b[1mtest:\u001b[0m /data/konrad/workspace/datasets/yolo_classify_splt/test... found 283 images in 3 classes ✅ \n",
      "Overriding model.yaml nc=1000 with nc=3\n",
      "\n",
      "                   from  n    params  module                                       arguments                     \n",
      "  0                  -1  1      1392  ultralytics.nn.modules.conv.Conv             [3, 48, 3, 2]                 \n",
      "  1                  -1  1     41664  ultralytics.nn.modules.conv.Conv             [48, 96, 3, 2]                \n",
      "  2                  -1  2    111360  ultralytics.nn.modules.block.C2f             [96, 96, 2, True]             \n",
      "  3                  -1  1    166272  ultralytics.nn.modules.conv.Conv             [96, 192, 3, 2]               \n",
      "  4                  -1  4    813312  ultralytics.nn.modules.block.C2f             [192, 192, 4, True]           \n",
      "  5                  -1  1    664320  ultralytics.nn.modules.conv.Conv             [192, 384, 3, 2]              \n",
      "  6                  -1  4   3248640  ultralytics.nn.modules.block.C2f             [384, 384, 4, True]           \n",
      "  7                  -1  1   2655744  ultralytics.nn.modules.conv.Conv             [384, 768, 3, 2]              \n",
      "  8                  -1  2   7084032  ultralytics.nn.modules.block.C2f             [768, 768, 2, True]           \n",
      "  9                  -1  1    989443  ultralytics.nn.modules.head.Classify         [768, 3]                      \n",
      "YOLOv8m-cls summary: 141 layers, 15,776,179 parameters, 15,776,179 gradients, 41.9 GFLOPs\n",
      "Transferred 228/230 items from pretrained weights\n",
      "\u001b[34m\u001b[1mTensorBoard: \u001b[0mStart with 'tensorboard --logdir /data/konrad/workspace/training_log/yolo_classifier4', view at http://localhost:6006/\n",
      "\u001b[34m\u001b[1mAMP: \u001b[0mrunning Automatic Mixed Precision (AMP) checks with YOLOv8n...\n",
      "\u001b[34m\u001b[1mAMP: \u001b[0mchecks passed ✅\n"
     ]
    },
    {
     "name": "stderr",
     "output_type": "stream",
     "text": [
      "\u001b[34m\u001b[1mtrain: \u001b[0mScanning /data/konrad/workspace/datasets/yolo_classify_splt/train... 5497 images, 0 corrupt: 100%|██████████| 549\u001b[0m\n"
     ]
    },
    {
     "name": "stdout",
     "output_type": "stream",
     "text": [
      "\u001b[34m\u001b[1mtrain: \u001b[0mNew cache created: /data/konrad/workspace/datasets/yolo_classify_splt/train.cache\n"
     ]
    },
    {
     "name": "stderr",
     "output_type": "stream",
     "text": [
      "\u001b[34m\u001b[1mval: \u001b[0mScanning /data/konrad/workspace/datasets/yolo_classify_splt/val... 1379 images, 0 corrupt: 100%|██████████| 1379/13\u001b[0m\n"
     ]
    },
    {
     "name": "stdout",
     "output_type": "stream",
     "text": [
      "\u001b[34m\u001b[1mval: \u001b[0mNew cache created: /data/konrad/workspace/datasets/yolo_classify_splt/val.cache\n",
      "\u001b[34m\u001b[1moptimizer:\u001b[0m 'optimizer=auto' found, ignoring 'lr0=0.01' and 'momentum=0.937' and determining best 'optimizer', 'lr0' and 'momentum' automatically... \n",
      "\u001b[34m\u001b[1moptimizer:\u001b[0m AdamW(lr=0.000714, momentum=0.9) with parameter groups 38 weight(decay=0.0), 39 weight(decay=0.0005), 39 bias(decay=0.0)\n",
      "\u001b[34m\u001b[1mTensorBoard: \u001b[0mmodel graph visualization added ✅\n",
      "Image sizes 224 train, 224 val\n",
      "Using 8 dataloader workers\n",
      "Logging results to \u001b[1m/data/konrad/workspace/training_log/yolo_classifier4\u001b[0m\n",
      "Starting training for 10 epochs...\n",
      "\n",
      "      Epoch    GPU_mem       loss  Instances       Size\n"
     ]
    },
    {
     "name": "stderr",
     "output_type": "stream",
     "text": [
      "       1/10      1.14G      0.946          9        224: 100%|██████████| 344/344 [00:08<00:00, 41.98it/s]\n",
      "               classes   top1_acc   top5_acc: 100%|██████████| 44/44 [00:00<00:00, 44.62it/s]\n"
     ]
    },
    {
     "name": "stdout",
     "output_type": "stream",
     "text": [
      "                   all      0.657          1\n",
      "\n",
      "      Epoch    GPU_mem       loss  Instances       Size\n"
     ]
    },
    {
     "name": "stderr",
     "output_type": "stream",
     "text": [
      "       2/10      1.18G     0.7899          9        224: 100%|██████████| 344/344 [00:06<00:00, 51.55it/s]\n",
      "               classes   top1_acc   top5_acc: 100%|██████████| 44/44 [00:00<00:00, 53.17it/s]"
     ]
    },
    {
     "name": "stdout",
     "output_type": "stream",
     "text": [
      "                   all      0.711          1\n"
     ]
    },
    {
     "name": "stderr",
     "output_type": "stream",
     "text": [
      "\n"
     ]
    },
    {
     "name": "stdout",
     "output_type": "stream",
     "text": [
      "\n",
      "      Epoch    GPU_mem       loss  Instances       Size\n"
     ]
    },
    {
     "name": "stderr",
     "output_type": "stream",
     "text": [
      "       3/10      1.16G     0.7011          9        224: 100%|██████████| 344/344 [00:05<00:00, 57.96it/s]\n",
      "               classes   top1_acc   top5_acc: 100%|██████████| 44/44 [00:00<00:00, 54.17it/s]"
     ]
    },
    {
     "name": "stdout",
     "output_type": "stream",
     "text": [
      "                   all      0.711          1\n"
     ]
    },
    {
     "name": "stderr",
     "output_type": "stream",
     "text": [
      "\n"
     ]
    },
    {
     "name": "stdout",
     "output_type": "stream",
     "text": [
      "\n",
      "      Epoch    GPU_mem       loss  Instances       Size\n"
     ]
    },
    {
     "name": "stderr",
     "output_type": "stream",
     "text": [
      "       4/10      1.16G     0.6561          9        224: 100%|██████████| 344/344 [00:05<00:00, 57.90it/s]\n",
      "               classes   top1_acc   top5_acc: 100%|██████████| 44/44 [00:00<00:00, 54.43it/s]"
     ]
    },
    {
     "name": "stdout",
     "output_type": "stream",
     "text": [
      "                   all      0.723          1\n"
     ]
    },
    {
     "name": "stderr",
     "output_type": "stream",
     "text": [
      "\n"
     ]
    },
    {
     "name": "stdout",
     "output_type": "stream",
     "text": [
      "\n",
      "      Epoch    GPU_mem       loss  Instances       Size\n"
     ]
    },
    {
     "name": "stderr",
     "output_type": "stream",
     "text": [
      "       5/10      1.16G      0.559          9        224: 100%|██████████| 344/344 [00:06<00:00, 53.41it/s]\n",
      "               classes   top1_acc   top5_acc: 100%|██████████| 44/44 [00:00<00:00, 50.92it/s]"
     ]
    },
    {
     "name": "stdout",
     "output_type": "stream",
     "text": [
      "                   all      0.772          1\n"
     ]
    },
    {
     "name": "stderr",
     "output_type": "stream",
     "text": [
      "\n"
     ]
    },
    {
     "name": "stdout",
     "output_type": "stream",
     "text": [
      "\n",
      "      Epoch    GPU_mem       loss  Instances       Size\n"
     ]
    },
    {
     "name": "stderr",
     "output_type": "stream",
     "text": [
      "       6/10      1.16G     0.5039          9        224: 100%|██████████| 344/344 [00:06<00:00, 53.85it/s]\n",
      "               classes   top1_acc   top5_acc: 100%|██████████| 44/44 [00:00<00:00, 50.07it/s]"
     ]
    },
    {
     "name": "stdout",
     "output_type": "stream",
     "text": [
      "                   all      0.787          1\n"
     ]
    },
    {
     "name": "stderr",
     "output_type": "stream",
     "text": [
      "\n"
     ]
    },
    {
     "name": "stdout",
     "output_type": "stream",
     "text": [
      "\n",
      "      Epoch    GPU_mem       loss  Instances       Size\n"
     ]
    },
    {
     "name": "stderr",
     "output_type": "stream",
     "text": [
      "       7/10      1.27G     0.4228          9        224: 100%|██████████| 344/344 [00:06<00:00, 52.05it/s]\n",
      "               classes   top1_acc   top5_acc: 100%|██████████| 44/44 [00:00<00:00, 51.19it/s]"
     ]
    },
    {
     "name": "stdout",
     "output_type": "stream",
     "text": [
      "                   all      0.788          1\n"
     ]
    },
    {
     "name": "stderr",
     "output_type": "stream",
     "text": [
      "\n"
     ]
    },
    {
     "name": "stdout",
     "output_type": "stream",
     "text": [
      "\n",
      "      Epoch    GPU_mem       loss  Instances       Size\n"
     ]
    },
    {
     "name": "stderr",
     "output_type": "stream",
     "text": [
      "       8/10      1.27G     0.3669          9        224: 100%|██████████| 344/344 [00:06<00:00, 53.33it/s]\n",
      "               classes   top1_acc   top5_acc: 100%|██████████| 44/44 [00:00<00:00, 50.69it/s]"
     ]
    },
    {
     "name": "stdout",
     "output_type": "stream",
     "text": [
      "                   all      0.814          1\n"
     ]
    },
    {
     "name": "stderr",
     "output_type": "stream",
     "text": [
      "\n"
     ]
    },
    {
     "name": "stdout",
     "output_type": "stream",
     "text": [
      "\n",
      "      Epoch    GPU_mem       loss  Instances       Size\n"
     ]
    },
    {
     "name": "stderr",
     "output_type": "stream",
     "text": [
      "       9/10      1.27G     0.3088          9        224: 100%|██████████| 344/344 [00:06<00:00, 56.74it/s]\n",
      "               classes   top1_acc   top5_acc: 100%|██████████| 44/44 [00:00<00:00, 50.49it/s]"
     ]
    },
    {
     "name": "stdout",
     "output_type": "stream",
     "text": [
      "                   all       0.82          1\n"
     ]
    },
    {
     "name": "stderr",
     "output_type": "stream",
     "text": [
      "\n"
     ]
    },
    {
     "name": "stdout",
     "output_type": "stream",
     "text": [
      "\n",
      "      Epoch    GPU_mem       loss  Instances       Size\n"
     ]
    },
    {
     "name": "stderr",
     "output_type": "stream",
     "text": [
      "      10/10      1.27G     0.2747          9        224: 100%|██████████| 344/344 [00:06<00:00, 55.44it/s]\n",
      "               classes   top1_acc   top5_acc: 100%|██████████| 44/44 [00:00<00:00, 50.18it/s] "
     ]
    },
    {
     "name": "stdout",
     "output_type": "stream",
     "text": [
      "                   all       0.83          1\n"
     ]
    },
    {
     "name": "stderr",
     "output_type": "stream",
     "text": [
      "\n"
     ]
    },
    {
     "name": "stdout",
     "output_type": "stream",
     "text": [
      "\n",
      "10 epochs completed in 0.023 hours.\n",
      "Optimizer stripped from /data/konrad/workspace/training_log/yolo_classifier4/weights/last.pt, 31.7MB\n",
      "Optimizer stripped from /data/konrad/workspace/training_log/yolo_classifier4/weights/best.pt, 31.7MB\n",
      "\n",
      "Validating /data/konrad/workspace/training_log/yolo_classifier4/weights/best.pt...\n",
      "Ultralytics YOLOv8.2.58 🚀 Python-3.10.12 torch-2.3.1+cu121 CUDA:0 (NVIDIA GeForce RTX 4090, 24115MiB)\n",
      "YOLOv8m-cls summary (fused): 103 layers, 15,766,499 parameters, 0 gradients, 41.6 GFLOPs\n",
      "\u001b[34m\u001b[1mtrain:\u001b[0m /data/konrad/workspace/datasets/yolo_classify_splt/train... found 5497 images in 3 classes ✅ \n",
      "\u001b[34m\u001b[1mval:\u001b[0m /data/konrad/workspace/datasets/yolo_classify_splt/val... found 1379 images in 3 classes ✅ \n",
      "\u001b[34m\u001b[1mtest:\u001b[0m /data/konrad/workspace/datasets/yolo_classify_splt/test... found 283 images in 3 classes ✅ \n"
     ]
    },
    {
     "name": "stderr",
     "output_type": "stream",
     "text": [
      "               classes   top1_acc   top5_acc: 100%|██████████| 44/44 [00:00<00:00, 44.58it/s]\n"
     ]
    },
    {
     "name": "stdout",
     "output_type": "stream",
     "text": [
      "                   all       0.83          1\n",
      "Speed: 0.0ms preprocess, 0.3ms inference, 0.0ms loss, 0.0ms postprocess per image\n",
      "Results saved to \u001b[1m/data/konrad/workspace/training_log/yolo_classifier4\u001b[0m\n",
      "Results saved to \u001b[1m/data/konrad/workspace/training_log/yolo_classifier4\u001b[0m\n",
      "Ultralytics YOLOv8.2.58 🚀 Python-3.10.12 torch-2.3.1+cu121 CUDA:0 (NVIDIA GeForce RTX 4090, 24115MiB)\n",
      "YOLOv8m-cls summary (fused): 103 layers, 15,766,499 parameters, 0 gradients, 41.6 GFLOPs\n",
      "\u001b[34m\u001b[1mtrain:\u001b[0m /data/konrad/workspace/datasets/yolo_classify_splt/train... found 5497 images in 3 classes ✅ \n",
      "\u001b[34m\u001b[1mval:\u001b[0m /data/konrad/workspace/datasets/yolo_classify_splt/val... found 1379 images in 3 classes ✅ \n",
      "\u001b[34m\u001b[1mtest:\u001b[0m /data/konrad/workspace/datasets/yolo_classify_splt/test... found 283 images in 3 classes ✅ \n"
     ]
    },
    {
     "name": "stderr",
     "output_type": "stream",
     "text": [
      "\u001b[34m\u001b[1mtest: \u001b[0mScanning /data/konrad/workspace/datasets/yolo_classify_splt/test... 283 images, 0 corrupt: 100%|██████████| 283/28\u001b[0m"
     ]
    },
    {
     "name": "stdout",
     "output_type": "stream",
     "text": [
      "\u001b[34m\u001b[1mtest: \u001b[0mNew cache created: /data/konrad/workspace/datasets/yolo_classify_splt/test.cache\n"
     ]
    },
    {
     "name": "stderr",
     "output_type": "stream",
     "text": [
      "\n",
      "               classes   top1_acc   top5_acc: 100%|██████████| 18/18 [00:00<00:00, 30.56it/s]\n"
     ]
    },
    {
     "name": "stdout",
     "output_type": "stream",
     "text": [
      "                   all      0.452          1\n",
      "Speed: 0.2ms preprocess, 1.5ms inference, 0.0ms loss, 0.0ms postprocess per image\n",
      "Results saved to \u001b[1m/data/konrad/workspace/training_log/yolo_classifier42\u001b[0m\n",
      "Ultralytics YOLOv8.2.58 🚀 Python-3.10.12 torch-2.3.1+cu121 CPU (AMD Ryzen Threadripper PRO 5975WX 32-Cores)\n",
      "\n",
      "\u001b[34m\u001b[1mPyTorch:\u001b[0m starting from '/data/konrad/workspace/training_log/yolo_classifier4/weights/best.pt' with input shape (1, 3, 224, 224) BCHW and output shape(s) (1, 3) (30.2 MB)\n",
      "\n",
      "\u001b[34m\u001b[1mTorchScript:\u001b[0m starting export with torch 2.3.1+cu121...\n",
      "\u001b[34m\u001b[1mTorchScript:\u001b[0m export success ✅ 0.6s, saved as '/data/konrad/workspace/training_log/yolo_classifier4/weights/best.torchscript' (60.4 MB)\n",
      "\n",
      "Export complete (1.8s)\n",
      "Results saved to \u001b[1m/data/konrad/workspace/training_log/yolo_classifier4/weights\u001b[0m\n",
      "Predict:         yolo predict task=classify model=/data/konrad/workspace/training_log/yolo_classifier4/weights/best.torchscript imgsz=224  \n",
      "Validate:        yolo val task=classify model=/data/konrad/workspace/training_log/yolo_classifier4/weights/best.torchscript imgsz=224 data=/data/konrad/workspace/datasets/yolo_classify_splt  \n",
      "Visualize:       https://netron.app\n"
     ]
    },
    {
     "data": {
      "text/plain": [
       "'/data/konrad/workspace/training_log/yolo_classifier4/weights/best.torchscript'"
      ]
     },
     "execution_count": 4,
     "metadata": {},
     "output_type": "execute_result"
    }
   ],
   "source": [
    "transforms = A.Compose([\n",
    "    A.Rotate(limit=(10, 20), p=.7),\n",
    "    A.OneOf([\n",
    "        A.GaussianBlur(blur_limit=(3,9), p=.7),\n",
    "        A.MedianBlur(blur_limit=7, p=.7),\n",
    "    ], p=.6),\n",
    "    A.Sharpen(p=.7),\n",
    "], bbox_params=A.BboxParams(format='pascal_voc', label_fields=['category_ids']))\n",
    "\n",
    "delete_dir_if_exists(IMAGE_DIR)\n",
    "# df_to_yolo(train_df, IMAGE_DIR + '/train', img_src_dir = IMAGE_DIR, transforms = transforms, num_gen=num_gen)\n",
    "df_to_yolo(train_df, IMAGE_DIR + '/train', transforms = None, num_gen=num_gen)\n",
    "df_to_yolo(valid_df, IMAGE_DIR + '/test')\n",
    "df_to_yolo(test_df, IMAGE_DIR + '/val')\n",
    "\n",
    "# Load a model\n",
    "model = YOLO(\"yolov8m-cls.pt\")  # load a pretrained model (recommended for training)\n",
    "epoch = 10\n",
    "\n",
    "model_name = \"yolo_classifier\"\n",
    "# yml_file_path = set_yml(f\"{model_name}_{dataset_type}\", IMAGE_DIR, id2label)\n",
    "# results = model.train(data=yml_file_path, epochs=epoch, project=ROOT_DIR + \"/training_log\", name=\"yolo_detect\", cfg=\"config.yml\")\n",
    "results = model.train(data=IMAGE_DIR, epochs=epoch, project=ROOT_DIR + \"/training_log\", name=model_name)\n",
    "results = model.val(data=IMAGE_DIR, split='test')  # Evaluate on test set\n",
    "\n",
    "model.export()"
   ]
  },
  {
   "cell_type": "code",
   "execution_count": 6,
   "id": "b5be0c21-cc03-4cf3-99ea-f291147b3135",
   "metadata": {
    "editable": true,
    "slideshow": {
     "slide_type": ""
    },
    "tags": []
   },
   "outputs": [
    {
     "name": "stdout",
     "output_type": "stream",
     "text": [
      "Directory '/data/konrad/workspace/datasets/yolo_classify_splt' deleted\n",
      "Done !\n",
      "Done !\n",
      "Done !\n",
      "New https://pypi.org/project/ultralytics/8.2.83 available 😃 Update with 'pip install -U ultralytics'\n",
      "Ultralytics YOLOv8.2.58 🚀 Python-3.10.12 torch-2.3.1+cu121 CUDA:0 (NVIDIA GeForce RTX 4090, 24115MiB)\n",
      "\u001b[34m\u001b[1mengine/trainer: \u001b[0mtask=classify, mode=train, model=yolov8m-cls.pt, data=/data/konrad/workspace/datasets/yolo_classify_splt, epochs=10, time=None, patience=100, batch=16, imgsz=224, save=True, save_period=-1, cache=False, device=None, workers=8, project=/data/konrad/workspace/training_log, name=yolo_classifier5, exist_ok=False, pretrained=True, optimizer=auto, verbose=True, seed=0, deterministic=True, single_cls=False, rect=False, cos_lr=False, close_mosaic=10, resume=False, amp=True, fraction=1.0, profile=False, freeze=None, multi_scale=False, overlap_mask=True, mask_ratio=4, dropout=0.0, val=True, split=val, save_json=False, save_hybrid=False, conf=None, iou=0.7, max_det=300, half=False, dnn=False, plots=True, source=None, vid_stride=1, stream_buffer=False, visualize=False, augment=False, agnostic_nms=False, classes=None, retina_masks=False, embed=None, show=False, save_frames=False, save_txt=False, save_conf=False, save_crop=False, show_labels=True, show_conf=True, show_boxes=True, line_width=None, format=torchscript, keras=False, optimize=False, int8=False, dynamic=False, simplify=False, opset=None, workspace=4, nms=False, lr0=0.01, lrf=0.01, momentum=0.937, weight_decay=0.0005, warmup_epochs=3.0, warmup_momentum=0.8, warmup_bias_lr=0.1, box=7.5, cls=0.5, dfl=1.5, pose=12.0, kobj=1.0, label_smoothing=0.0, nbs=64, hsv_h=0, hsv_s=0, hsv_v=0, degrees=0.0, translate=0, scale=0, shear=0.0, perspective=0.0, flipud=0.0, fliplr=0.8, bgr=0.0, mosaic=0, mixup=0.0, copy_paste=0.0, auto_augment=randaugment, erasing=0, crop_fraction=1, cfg=config.yml, tracker=botsort.yaml, save_dir=/data/konrad/workspace/training_log/yolo_classifier5\n",
      "\u001b[34m\u001b[1mtrain:\u001b[0m /data/konrad/workspace/datasets/yolo_classify_splt/train... found 5497 images in 3 classes ✅ \n",
      "\u001b[34m\u001b[1mval:\u001b[0m /data/konrad/workspace/datasets/yolo_classify_splt/val... found 1379 images in 3 classes ✅ \n",
      "\u001b[34m\u001b[1mtest:\u001b[0m /data/konrad/workspace/datasets/yolo_classify_splt/test... found 283 images in 3 classes ✅ \n",
      "Overriding model.yaml nc=1000 with nc=3\n",
      "\n",
      "                   from  n    params  module                                       arguments                     \n",
      "  0                  -1  1      1392  ultralytics.nn.modules.conv.Conv             [3, 48, 3, 2]                 \n",
      "  1                  -1  1     41664  ultralytics.nn.modules.conv.Conv             [48, 96, 3, 2]                \n",
      "  2                  -1  2    111360  ultralytics.nn.modules.block.C2f             [96, 96, 2, True]             \n",
      "  3                  -1  1    166272  ultralytics.nn.modules.conv.Conv             [96, 192, 3, 2]               \n",
      "  4                  -1  4    813312  ultralytics.nn.modules.block.C2f             [192, 192, 4, True]           \n",
      "  5                  -1  1    664320  ultralytics.nn.modules.conv.Conv             [192, 384, 3, 2]              \n",
      "  6                  -1  4   3248640  ultralytics.nn.modules.block.C2f             [384, 384, 4, True]           \n",
      "  7                  -1  1   2655744  ultralytics.nn.modules.conv.Conv             [384, 768, 3, 2]              \n",
      "  8                  -1  2   7084032  ultralytics.nn.modules.block.C2f             [768, 768, 2, True]           \n",
      "  9                  -1  1    989443  ultralytics.nn.modules.head.Classify         [768, 3]                      \n",
      "YOLOv8m-cls summary: 141 layers, 15,776,179 parameters, 15,776,179 gradients, 41.9 GFLOPs\n",
      "Transferred 228/230 items from pretrained weights\n",
      "\u001b[34m\u001b[1mTensorBoard: \u001b[0mStart with 'tensorboard --logdir /data/konrad/workspace/training_log/yolo_classifier5', view at http://localhost:6006/\n",
      "\u001b[34m\u001b[1mAMP: \u001b[0mrunning Automatic Mixed Precision (AMP) checks with YOLOv8n...\n",
      "\u001b[34m\u001b[1mAMP: \u001b[0mchecks passed ✅\n"
     ]
    },
    {
     "name": "stderr",
     "output_type": "stream",
     "text": [
      "\u001b[34m\u001b[1mtrain: \u001b[0mScanning /data/konrad/workspace/datasets/yolo_classify_splt/train... 5497 images, 0 corrupt: 100%|██████████| 549\u001b[0m"
     ]
    },
    {
     "name": "stdout",
     "output_type": "stream",
     "text": [
      "\u001b[34m\u001b[1mtrain: \u001b[0mNew cache created: /data/konrad/workspace/datasets/yolo_classify_splt/train.cache\n"
     ]
    },
    {
     "name": "stderr",
     "output_type": "stream",
     "text": [
      "\n",
      "\u001b[34m\u001b[1mval: \u001b[0mScanning /data/konrad/workspace/datasets/yolo_classify_splt/val... 1379 images, 0 corrupt: 100%|██████████| 1379/13\u001b[0m"
     ]
    },
    {
     "name": "stdout",
     "output_type": "stream",
     "text": [
      "\u001b[34m\u001b[1mval: \u001b[0mNew cache created: /data/konrad/workspace/datasets/yolo_classify_splt/val.cache\n"
     ]
    },
    {
     "name": "stderr",
     "output_type": "stream",
     "text": [
      "\n"
     ]
    },
    {
     "name": "stdout",
     "output_type": "stream",
     "text": [
      "\u001b[34m\u001b[1moptimizer:\u001b[0m 'optimizer=auto' found, ignoring 'lr0=0.01' and 'momentum=0.937' and determining best 'optimizer', 'lr0' and 'momentum' automatically... \n",
      "\u001b[34m\u001b[1moptimizer:\u001b[0m AdamW(lr=0.000714, momentum=0.9) with parameter groups 38 weight(decay=0.0), 39 weight(decay=0.0005), 39 bias(decay=0.0)\n",
      "\u001b[34m\u001b[1mTensorBoard: \u001b[0mmodel graph visualization added ✅\n",
      "Image sizes 224 train, 224 val\n",
      "Using 8 dataloader workers\n",
      "Logging results to \u001b[1m/data/konrad/workspace/training_log/yolo_classifier5\u001b[0m\n",
      "Starting training for 10 epochs...\n",
      "\n",
      "      Epoch    GPU_mem       loss  Instances       Size\n"
     ]
    },
    {
     "name": "stderr",
     "output_type": "stream",
     "text": [
      "       1/10      1.59G     0.9102          9        224: 100%|██████████| 344/344 [00:07<00:00, 43.09it/s]\n",
      "               classes   top1_acc   top5_acc: 100%|██████████| 44/44 [00:00<00:00, 53.79it/s]"
     ]
    },
    {
     "name": "stdout",
     "output_type": "stream",
     "text": [
      "                   all      0.656          1\n"
     ]
    },
    {
     "name": "stderr",
     "output_type": "stream",
     "text": [
      "\n"
     ]
    },
    {
     "name": "stdout",
     "output_type": "stream",
     "text": [
      "\n",
      "      Epoch    GPU_mem       loss  Instances       Size\n"
     ]
    },
    {
     "name": "stderr",
     "output_type": "stream",
     "text": [
      "       2/10       1.2G     0.6649          9        224: 100%|██████████| 344/344 [00:06<00:00, 51.47it/s]\n",
      "               classes   top1_acc   top5_acc: 100%|██████████| 44/44 [00:00<00:00, 52.21it/s]"
     ]
    },
    {
     "name": "stdout",
     "output_type": "stream",
     "text": [
      "                   all      0.672          1\n"
     ]
    },
    {
     "name": "stderr",
     "output_type": "stream",
     "text": [
      "\n"
     ]
    },
    {
     "name": "stdout",
     "output_type": "stream",
     "text": [
      "\n",
      "      Epoch    GPU_mem       loss  Instances       Size\n"
     ]
    },
    {
     "name": "stderr",
     "output_type": "stream",
     "text": [
      "       3/10       1.2G     0.5281          9        224: 100%|██████████| 344/344 [00:06<00:00, 53.88it/s]\n",
      "               classes   top1_acc   top5_acc: 100%|██████████| 44/44 [00:00<00:00, 53.08it/s] "
     ]
    },
    {
     "name": "stdout",
     "output_type": "stream",
     "text": [
      "                   all      0.672          1\n"
     ]
    },
    {
     "name": "stderr",
     "output_type": "stream",
     "text": [
      "\n"
     ]
    },
    {
     "name": "stdout",
     "output_type": "stream",
     "text": [
      "\n",
      "      Epoch    GPU_mem       loss  Instances       Size\n"
     ]
    },
    {
     "name": "stderr",
     "output_type": "stream",
     "text": [
      "       4/10       1.2G     0.4119          9        224: 100%|██████████| 344/344 [00:06<00:00, 54.05it/s]\n",
      "               classes   top1_acc   top5_acc: 100%|██████████| 44/44 [00:00<00:00, 54.22it/s]"
     ]
    },
    {
     "name": "stdout",
     "output_type": "stream",
     "text": [
      "                   all      0.707          1\n"
     ]
    },
    {
     "name": "stderr",
     "output_type": "stream",
     "text": [
      "\n"
     ]
    },
    {
     "name": "stdout",
     "output_type": "stream",
     "text": [
      "\n",
      "      Epoch    GPU_mem       loss  Instances       Size\n"
     ]
    },
    {
     "name": "stderr",
     "output_type": "stream",
     "text": [
      "       5/10       1.2G     0.2897          9        224: 100%|██████████| 344/344 [00:06<00:00, 55.11it/s]\n",
      "               classes   top1_acc   top5_acc: 100%|██████████| 44/44 [00:00<00:00, 53.51it/s]"
     ]
    },
    {
     "name": "stdout",
     "output_type": "stream",
     "text": [
      "                   all      0.713          1\n"
     ]
    },
    {
     "name": "stderr",
     "output_type": "stream",
     "text": [
      "\n"
     ]
    },
    {
     "name": "stdout",
     "output_type": "stream",
     "text": [
      "\n",
      "      Epoch    GPU_mem       loss  Instances       Size\n"
     ]
    },
    {
     "name": "stderr",
     "output_type": "stream",
     "text": [
      "       6/10       1.2G     0.1991          9        224: 100%|██████████| 344/344 [00:06<00:00, 56.60it/s]\n",
      "               classes   top1_acc   top5_acc: 100%|██████████| 44/44 [00:00<00:00, 52.48it/s]"
     ]
    },
    {
     "name": "stdout",
     "output_type": "stream",
     "text": [
      "                   all      0.724          1\n"
     ]
    },
    {
     "name": "stderr",
     "output_type": "stream",
     "text": [
      "\n"
     ]
    },
    {
     "name": "stdout",
     "output_type": "stream",
     "text": [
      "\n",
      "      Epoch    GPU_mem       loss  Instances       Size\n"
     ]
    },
    {
     "name": "stderr",
     "output_type": "stream",
     "text": [
      "       7/10       1.2G     0.1273          9        224: 100%|██████████| 344/344 [00:05<00:00, 57.55it/s]\n",
      "               classes   top1_acc   top5_acc: 100%|██████████| 44/44 [00:00<00:00, 53.72it/s]"
     ]
    },
    {
     "name": "stdout",
     "output_type": "stream",
     "text": [
      "                   all      0.738          1\n"
     ]
    },
    {
     "name": "stderr",
     "output_type": "stream",
     "text": [
      "\n"
     ]
    },
    {
     "name": "stdout",
     "output_type": "stream",
     "text": [
      "\n",
      "      Epoch    GPU_mem       loss  Instances       Size\n"
     ]
    },
    {
     "name": "stderr",
     "output_type": "stream",
     "text": [
      "       8/10       1.2G     0.1022          9        224: 100%|██████████| 344/344 [00:05<00:00, 58.55it/s]\n",
      "               classes   top1_acc   top5_acc: 100%|██████████| 44/44 [00:00<00:00, 52.57it/s]"
     ]
    },
    {
     "name": "stdout",
     "output_type": "stream",
     "text": [
      "                   all      0.742          1\n"
     ]
    },
    {
     "name": "stderr",
     "output_type": "stream",
     "text": [
      "\n"
     ]
    },
    {
     "name": "stdout",
     "output_type": "stream",
     "text": [
      "\n",
      "      Epoch    GPU_mem       loss  Instances       Size\n"
     ]
    },
    {
     "name": "stderr",
     "output_type": "stream",
     "text": [
      "       9/10       1.2G    0.07216          9        224: 100%|██████████| 344/344 [00:06<00:00, 56.50it/s]\n",
      "               classes   top1_acc   top5_acc: 100%|██████████| 44/44 [00:00<00:00, 52.06it/s]"
     ]
    },
    {
     "name": "stdout",
     "output_type": "stream",
     "text": [
      "                   all      0.759          1\n"
     ]
    },
    {
     "name": "stderr",
     "output_type": "stream",
     "text": [
      "\n"
     ]
    },
    {
     "name": "stdout",
     "output_type": "stream",
     "text": [
      "\n",
      "      Epoch    GPU_mem       loss  Instances       Size\n"
     ]
    },
    {
     "name": "stderr",
     "output_type": "stream",
     "text": [
      "      10/10       1.2G    0.06074          9        224: 100%|██████████| 344/344 [00:05<00:00, 60.02it/s]\n",
      "               classes   top1_acc   top5_acc: 100%|██████████| 44/44 [00:00<00:00, 52.22it/s] "
     ]
    },
    {
     "name": "stdout",
     "output_type": "stream",
     "text": [
      "                   all      0.746          1\n"
     ]
    },
    {
     "name": "stderr",
     "output_type": "stream",
     "text": [
      "\n"
     ]
    },
    {
     "name": "stdout",
     "output_type": "stream",
     "text": [
      "\n",
      "10 epochs completed in 0.044 hours.\n",
      "Optimizer stripped from /data/konrad/workspace/training_log/yolo_classifier5/weights/last.pt, 31.7MB\n",
      "Optimizer stripped from /data/konrad/workspace/training_log/yolo_classifier5/weights/best.pt, 31.7MB\n",
      "\n",
      "Validating /data/konrad/workspace/training_log/yolo_classifier5/weights/best.pt...\n",
      "Ultralytics YOLOv8.2.58 🚀 Python-3.10.12 torch-2.3.1+cu121 CUDA:0 (NVIDIA GeForce RTX 4090, 24115MiB)\n",
      "YOLOv8m-cls summary (fused): 103 layers, 15,766,499 parameters, 0 gradients, 41.6 GFLOPs\n",
      "\u001b[34m\u001b[1mtrain:\u001b[0m /data/konrad/workspace/datasets/yolo_classify_splt/train... found 5497 images in 3 classes ✅ \n",
      "\u001b[34m\u001b[1mval:\u001b[0m /data/konrad/workspace/datasets/yolo_classify_splt/val... found 1379 images in 3 classes ✅ \n",
      "\u001b[34m\u001b[1mtest:\u001b[0m /data/konrad/workspace/datasets/yolo_classify_splt/test... found 283 images in 3 classes ✅ \n"
     ]
    },
    {
     "name": "stderr",
     "output_type": "stream",
     "text": [
      "               classes   top1_acc   top5_acc: 100%|██████████| 44/44 [00:01<00:00, 43.27it/s]\n"
     ]
    },
    {
     "name": "stdout",
     "output_type": "stream",
     "text": [
      "                   all       0.76          1\n",
      "Speed: 0.0ms preprocess, 0.3ms inference, 0.0ms loss, 0.0ms postprocess per image\n",
      "Results saved to \u001b[1m/data/konrad/workspace/training_log/yolo_classifier5\u001b[0m\n",
      "Results saved to \u001b[1m/data/konrad/workspace/training_log/yolo_classifier5\u001b[0m\n",
      "Ultralytics YOLOv8.2.58 🚀 Python-3.10.12 torch-2.3.1+cu121 CUDA:0 (NVIDIA GeForce RTX 4090, 24115MiB)\n",
      "YOLOv8m-cls summary (fused): 103 layers, 15,766,499 parameters, 0 gradients, 41.6 GFLOPs\n",
      "\u001b[34m\u001b[1mtrain:\u001b[0m /data/konrad/workspace/datasets/yolo_classify_splt/train... found 5497 images in 3 classes ✅ \n",
      "\u001b[34m\u001b[1mval:\u001b[0m /data/konrad/workspace/datasets/yolo_classify_splt/val... found 1379 images in 3 classes ✅ \n",
      "\u001b[34m\u001b[1mtest:\u001b[0m /data/konrad/workspace/datasets/yolo_classify_splt/test... found 283 images in 3 classes ✅ \n"
     ]
    },
    {
     "name": "stderr",
     "output_type": "stream",
     "text": [
      "\u001b[34m\u001b[1mtest: \u001b[0mScanning /data/konrad/workspace/datasets/yolo_classify_splt/test... 283 images, 0 corrupt: 100%|██████████| 283/28\u001b[0m"
     ]
    },
    {
     "name": "stdout",
     "output_type": "stream",
     "text": [
      "\u001b[34m\u001b[1mtest: \u001b[0mNew cache created: /data/konrad/workspace/datasets/yolo_classify_splt/test.cache\n"
     ]
    },
    {
     "name": "stderr",
     "output_type": "stream",
     "text": [
      "\n",
      "               classes   top1_acc   top5_acc: 100%|██████████| 18/18 [00:00<00:00, 42.76it/s]\n"
     ]
    },
    {
     "name": "stdout",
     "output_type": "stream",
     "text": [
      "                   all       0.42          1\n",
      "Speed: 0.3ms preprocess, 0.7ms inference, 0.0ms loss, 0.0ms postprocess per image\n",
      "Results saved to \u001b[1m/data/konrad/workspace/training_log/yolo_classifier52\u001b[0m\n",
      "Ultralytics YOLOv8.2.58 🚀 Python-3.10.12 torch-2.3.1+cu121 CPU (AMD Ryzen Threadripper PRO 5975WX 32-Cores)\n",
      "\n",
      "\u001b[34m\u001b[1mPyTorch:\u001b[0m starting from '/data/konrad/workspace/training_log/yolo_classifier5/weights/best.pt' with input shape (1, 3, 224, 224) BCHW and output shape(s) (1, 3) (30.2 MB)\n",
      "\n",
      "\u001b[34m\u001b[1mTorchScript:\u001b[0m starting export with torch 2.3.1+cu121...\n",
      "\u001b[34m\u001b[1mTorchScript:\u001b[0m export success ✅ 0.5s, saved as '/data/konrad/workspace/training_log/yolo_classifier5/weights/best.torchscript' (60.4 MB)\n",
      "\n",
      "Export complete (1.7s)\n",
      "Results saved to \u001b[1m/data/konrad/workspace/training_log/yolo_classifier5/weights\u001b[0m\n",
      "Predict:         yolo predict task=classify model=/data/konrad/workspace/training_log/yolo_classifier5/weights/best.torchscript imgsz=224  \n",
      "Validate:        yolo val task=classify model=/data/konrad/workspace/training_log/yolo_classifier5/weights/best.torchscript imgsz=224 data=/data/konrad/workspace/datasets/yolo_classify_splt  \n",
      "Visualize:       https://netron.app\n"
     ]
    },
    {
     "data": {
      "text/plain": [
       "'/data/konrad/workspace/training_log/yolo_classifier5/weights/best.torchscript'"
      ]
     },
     "execution_count": 6,
     "metadata": {},
     "output_type": "execute_result"
    }
   ],
   "source": [
    "transforms = A.Compose([\n",
    "    A.Rotate(limit=(10, 20), p=.7),\n",
    "    A.OneOf([\n",
    "        A.GaussianBlur(blur_limit=(3,9), p=.7),\n",
    "        A.MedianBlur(blur_limit=7, p=.7),\n",
    "    ], p=.6),\n",
    "    A.Sharpen(p=.7),\n",
    "], bbox_params=A.BboxParams(format='pascal_voc', label_fields=['category_ids']))\n",
    "\n",
    "\n",
    "delete_dir_if_exists(IMAGE_DIR)\n",
    "df_to_yolo(train_df, IMAGE_DIR + '/train', transforms = transforms, num_gen=num_gen)\n",
    "# df_to_yolo(train_df, IMAGE_DIR + '/train', img_src_dir = IMAGE_DIR, transforms = None, num_gen=num_gen)\n",
    "df_to_yolo(valid_df, IMAGE_DIR + '/test')\n",
    "df_to_yolo(test_df, IMAGE_DIR + '/val')\n",
    "\n",
    "# Load a model\n",
    "model = YOLO(\"yolov8m-cls.pt\")  # load a pretrained model (recommended for training)\n",
    "epoch = 10\n",
    "\n",
    "model_name = \"yolo_classifier\"\n",
    "# yml_file_path = set_yml(f\"{model_name}_{dataset_type}\", IMAGE_DIR, id2label)\n",
    "results = model.train(data=IMAGE_DIR, epochs=epoch, project=ROOT_DIR + \"/training_log\", name=model_name, cfg=\"config.yml\")\n",
    "# results = model.train(data=\"yolo_detect.yml\", epochs=epoch, project=ROOT_DIR + \"/training_log\", name=\"yolo_detect\")\n",
    "results = model.val(data=IMAGE_DIR, split='test')  # Evaluate on test set\n",
    "\n",
    "model.export()"
   ]
  }
 ],
 "metadata": {
  "kernelspec": {
   "display_name": "Python (main_env)",
   "language": "python",
   "name": "x_env"
  },
  "language_info": {
   "codemirror_mode": {
    "name": "ipython",
    "version": 3
   },
   "file_extension": ".py",
   "mimetype": "text/x-python",
   "name": "python",
   "nbconvert_exporter": "python",
   "pygments_lexer": "ipython3",
   "version": "3.10.12"
  }
 },
 "nbformat": 4,
 "nbformat_minor": 5
}

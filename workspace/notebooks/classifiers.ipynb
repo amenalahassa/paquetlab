{
 "cells": [
  {
   "cell_type": "code",
   "execution_count": 33,
   "id": "6df03d0f-c7e2-46ac-a01a-f8075766698d",
   "metadata": {},
   "outputs": [],
   "source": [
    "import torch\n",
    "import torchvision\n",
    "from torch.utils.data import Dataset, DataLoader\n",
    "from torchvision import transforms\n",
    "import os\n",
    "import sys\n",
    "import av\n",
    "\n",
    "from transformers import VideoMAEForVideoClassification, VideoMAEFeatureExtractor, AutoImageProcessor, TrainingArguments, Trainer\n",
    "# from datasets import load_dataset\n",
    "\n",
    "# Local dep\n",
    "project_dir = '/data/konrad/'\n",
    "sys.path.insert(0, project_dir)\n"
   ]
  },
  {
   "cell_type": "code",
   "execution_count": 2,
   "id": "9d8a5ea8-06b3-4c89-a23d-54050ffd4883",
   "metadata": {},
   "outputs": [
    {
     "name": "stderr",
     "output_type": "stream",
     "text": [
      "/data/konrad/jupiter_env/lib/python3.10/site-packages/torchvision/io/video.py:161: UserWarning: The pts_unit 'pts' gives wrong results. Please use pts_unit 'sec'.\n",
      "  warnings.warn(\"The pts_unit 'pts' gives wrong results. Please use pts_unit 'sec'.\")\n"
     ]
    }
   ],
   "source": [
    "base_dir = \"/data/konrad/\"\n",
    "video_path = base_dir + \"video_classification/temp_videos/Pneumonie/clip_2_6786_2_2022-02-25 17:44:54_Pneumonie.mp4\"\n",
    "video = torchvision.io.read_video(video_path)"
   ]
  },
  {
   "cell_type": "code",
   "execution_count": 5,
   "id": "29b7ae2d-e475-4e59-8bf2-9d19831c8cff",
   "metadata": {},
   "outputs": [
    {
     "data": {
      "text/plain": [
       "3"
      ]
     },
     "execution_count": 5,
     "metadata": {},
     "output_type": "execute_result"
    }
   ],
   "source": [
    "len(video)"
   ]
  },
  {
   "cell_type": "code",
   "execution_count": 7,
   "id": "03e56605-703e-477f-b3c8-b820c046152c",
   "metadata": {},
   "outputs": [
    {
     "data": {
      "text/plain": [
       "torch.Size([500, 1296, 2304, 3])"
      ]
     },
     "execution_count": 7,
     "metadata": {},
     "output_type": "execute_result"
    }
   ],
   "source": [
    "video[0].shape"
   ]
  },
  {
   "cell_type": "code",
   "execution_count": 8,
   "id": "ad3d6ffc-03d8-43d7-80ae-39f74097d2b1",
   "metadata": {},
   "outputs": [
    {
     "data": {
      "text/plain": [
       "torch.Size([2, 882479])"
      ]
     },
     "execution_count": 8,
     "metadata": {},
     "output_type": "execute_result"
    }
   ],
   "source": [
    "video[1].shape"
   ]
  },
  {
   "cell_type": "code",
   "execution_count": 10,
   "id": "99be9b90-0196-4d12-9e2a-01931a1bbdf7",
   "metadata": {},
   "outputs": [
    {
     "data": {
      "text/plain": [
       "{'video_fps': 25.0, 'audio_fps': 44100}"
      ]
     },
     "execution_count": 10,
     "metadata": {},
     "output_type": "execute_result"
    }
   ],
   "source": [
    "video[2]"
   ]
  },
  {
   "cell_type": "code",
   "execution_count": 17,
   "id": "c61fb287-1e2a-4049-8492-488b5858f07b",
   "metadata": {},
   "outputs": [
    {
     "data": {
      "text/plain": [
       "<av.InputContainer '/data/konrad/video_classification/temp_videos/Pneumonie/clip_2_6786_2_2022-02-25 17:44:54_Pneumonie.mp4'>"
      ]
     },
     "execution_count": 17,
     "metadata": {},
     "output_type": "execute_result"
    }
   ],
   "source": [
    "container = av.open(video_path)\n",
    "container"
   ]
  },
  {
   "cell_type": "code",
   "execution_count": 22,
   "id": "88fd0c30-18e1-4535-80d6-371652e727a8",
   "metadata": {},
   "outputs": [
    {
     "data": {
      "text/plain": [
       "(<av.VideoStream #0 h264, yuv420p 2304x1296 at 0x7fc063594520>,)"
      ]
     },
     "execution_count": 22,
     "metadata": {},
     "output_type": "execute_result"
    }
   ],
   "source": [
    "container.streams.video"
   ]
  },
  {
   "cell_type": "code",
   "execution_count": 34,
   "id": "4913bae1-c3f2-46b9-a6c7-b2556877ad24",
   "metadata": {},
   "outputs": [],
   "source": [
    "feature_extractor = VideoMAEFeatureExtractor.from_pretrained(\"MCG-NJU/videomae-base\")\n",
    "image_processor = AutoImageProcessor.from_pretrained(\"MCG-NJU/videomae-base\")\n"
   ]
  },
  {
   "cell_type": "code",
   "execution_count": 37,
   "id": "fd32cebe-6bd0-4aab-bbdf-c269930c7706",
   "metadata": {},
   "outputs": [
    {
     "data": {
      "text/plain": [
       "torch.Size([500, 3, 1296, 2304])"
      ]
     },
     "execution_count": 37,
     "metadata": {},
     "output_type": "execute_result"
    }
   ],
   "source": [
    "video[0].permute(0, 3, 1, 2).shape"
   ]
  },
  {
   "cell_type": "code",
   "execution_count": null,
   "id": "21854bd7-9c03-4311-a31e-fd891f2549c1",
   "metadata": {},
   "outputs": [],
   "source": [
    "videos = video[0].permute(0, 3, 1, 2).unsqueeze(0)\n",
    "# videos = video[0].permute(0, 3, 1, 2)\n",
    "# videos = video[0]\n",
    "inputs = image_processor(videos, return_tensors='pt')"
   ]
  }
 ],
 "metadata": {
  "kernelspec": {
   "display_name": "Python (jpt_env)",
   "language": "python",
   "name": "jupiter_env"
  },
  "language_info": {
   "codemirror_mode": {
    "name": "ipython",
    "version": 3
   },
   "file_extension": ".py",
   "mimetype": "text/x-python",
   "name": "python",
   "nbconvert_exporter": "python",
   "pygments_lexer": "ipython3",
   "version": "3.10.12"
  }
 },
 "nbformat": 4,
 "nbformat_minor": 5
}

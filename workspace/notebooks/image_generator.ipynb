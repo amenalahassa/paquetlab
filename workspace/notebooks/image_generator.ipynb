{
 "cells": [
  {
   "cell_type": "markdown",
   "id": "df7c7bfd-8a3b-4a75-ae73-ba79e9aefc64",
   "metadata": {},
   "source": [
    "## Deps"
   ]
  },
  {
   "cell_type": "code",
   "execution_count": 1,
   "id": "2a9869fb-f0f3-4e43-b0da-ed1e8f99a6c2",
   "metadata": {},
   "outputs": [],
   "source": [
    "import os\n",
    "import sys\n",
    "import torch\n",
    "import av\n",
    "import numpy as np\n",
    "import pandas as pd\n",
    "from PIL import Image\n",
    "import moviepy\n",
    "import moviepy.editor as mp\n",
    "import time\n",
    "from IPython.display import clear_output\n",
    "from tqdm import tqdm\n",
    "import tempfile\n",
    "import matplotlib.pyplot as plt\n",
    "import seaborn as sns\n",
    "\n",
    "from ultralytics import YOLO"
   ]
  },
  {
   "cell_type": "code",
   "execution_count": 3,
   "id": "8453c6ba-7b74-4d28-83c5-16b4a88dabd0",
   "metadata": {
    "editable": true,
    "slideshow": {
     "slide_type": ""
    },
    "tags": []
   },
   "outputs": [],
   "source": [
    "def format_time(seconds):\n",
    "    hours = int(seconds // 3600)\n",
    "    minutes = int((seconds % 3600) // 60)\n",
    "    seconds = int(seconds % 60)\n",
    "    return f\"{hours:02}:{minutes:02}:{seconds:02}\"\n",
    "\n",
    "def read_video_pyav(container, indices):\n",
    "    '''\n",
    "    Decode the video with PyAV decoder.\n",
    "    Args:\n",
    "        container (`av.container.input.InputContainer`): PyAV container.\n",
    "        indices (`List[int]`): List of frame indices to decode.\n",
    "    Returns:\n",
    "        result (np.ndarray): np array of decoded frames of shape (num_frames, height, width, 3).\n",
    "    '''\n",
    "    frames = []\n",
    "    container.seek(0)\n",
    "    start_index = indices[0]\n",
    "    end_index = indices[-1]\n",
    "    for i, frame in enumerate(container.decode(video=0)):\n",
    "        if i > end_index:\n",
    "            break\n",
    "        if i >= start_index and i in indices:\n",
    "            frames.append(frame)\n",
    "    return np.stack([x.to_ndarray(format=\"rgb24\") for x in frames])\n",
    "\n",
    "\n",
    "def sample_frame_indices(clip_len, frame_sample_rate, seg_len):\n",
    "    '''\n",
    "    Sample a given number of frame indices from the video.\n",
    "    Args:\n",
    "        clip_len (`int`): Total number of frames to sample.\n",
    "        frame_sample_rate (`int`): Sample every n-th frame.\n",
    "        seg_len (`int`): Maximum allowed index of sample's last frame.\n",
    "    Returns:\n",
    "        indices (`List[int]`): List of sampled frame indices\n",
    "    '''\n",
    "    converted_len = int(clip_len * frame_sample_rate)\n",
    "    end_idx = np.random.randint(converted_len, seg_len)\n",
    "    # start_idx = end_idx - converted_len\n",
    "    # start_idx = clip_len\n",
    "    start_idx = 0\n",
    "    indices = np.linspace(start_idx, end_idx, num=clip_len)\n",
    "    indices = np.clip(indices, start_idx, end_idx - 1).astype(np.int64)\n",
    "    return indices\n",
    "\n",
    "# Function to sample uniformly with specified values\n",
    "def uniform_sample_with_values(df, sample_size, groupby_cols, filter_values = None):\n",
    "    copy = df.copy(deep=True)\n",
    "    # Filter dataframe based on specified values for each column\n",
    "    if filter_values is not None:\n",
    "        for col, values in filter_values.items():\n",
    "            copy = copy[copy[col].isin(values)]\n",
    "    \n",
    "    # Calculate the number of rows to sample per group\n",
    "    num_groups = copy.groupby(groupby_cols).ngroups\n",
    "    sample_per_group = max(sample_size // num_groups, 1)\n",
    "    \n",
    "    # Sample uniformly within each group\n",
    "    sampled_df = copy.groupby(groupby_cols, group_keys=False).apply(lambda x: x.sample(min(len(x), sample_per_group)))\n",
    "    \n",
    "    # If we sampled less than the desired sample_size due to group sizes, sample more from the remaining dataframe\n",
    "    if len(sampled_df) < sample_size:\n",
    "        remaining_sample_size = sample_size - len(sampled_df)\n",
    "        remaining_df = copy[~copy.index.isin(sampled_df.index)]\n",
    "        additional_samples = remaining_df.sample(min(len(remaining_df), remaining_sample_size))\n",
    "        sampled_df = pd.concat([sampled_df, additional_samples])\n",
    "    \n",
    "    return sampled_df, copy[~copy.index.isin(sampled_df.index)]\n",
    "\n",
    "def extract_images(aptms, mp4_files, root_dir, num_images = 10, delta = 20, step = 0):\n",
    "    \n",
    "    size = len(aptms)\n",
    "    records = []\n",
    "    for idx in tqdm(range(size), desc=\"Processing items\"):\n",
    "        one_row = aptms.iloc[idx]\n",
    "        target = one_row['State']\n",
    "            \n",
    "        cond = (\n",
    "            (mp4_files[\"start_date\"] == str(one_row.datetime.date()))\n",
    "            & (mp4_files[\"start_time\"] <= one_row.datetime)\n",
    "            & (mp4_files[\"end_time\"] > one_row.datetime)\n",
    "            & (mp4_files[\"station\"] == one_row.parc)\n",
    "        )\n",
    "\n",
    "        # print(mp4_files[cond].shape)\n",
    "        \n",
    "        if mp4_files[cond].shape[0] == 0:\n",
    "            continue\n",
    "\n",
    "        dir_path = root_dir + \"/\" + target\n",
    "        if not os.path.exists(dir_path):\n",
    "            os.makedirs(dir_path)\n",
    "            \n",
    "        for index, file in mp4_files[cond].iterrows():\n",
    "            zero = (one_row[\"datetime\"] - file[\"start_time\"]).total_seconds()\n",
    "            if zero - delta > 0:\n",
    "                break\n",
    "    \n",
    "        video = mp.VideoFileClip(file[\"path\"])\n",
    "        start_at = max(zero - delta, 0)\n",
    "        end_at = max(zero - step, 0)\n",
    "        \n",
    "        if end_at <= start_at or (end_at - start_at) <= 1:\n",
    "            continue\n",
    "            \n",
    "        clip = video.subclip(start_at, end_at)\n",
    "\n",
    "        # Save a sample 16 frames of video a image and save them\n",
    "        # Convert the clip to a PyAV container\n",
    "        with tempfile.NamedTemporaryFile(suffix='.mp4') as tmpfile:\n",
    "            clip.write_videofile(tmpfile.name, logger= None)\n",
    "            container = av.open(tmpfile.name)\n",
    "\n",
    "            video_stream = container.streams.video[0]\n",
    "\n",
    "            # Get the duration in time base units\n",
    "            duration_in_units = video_stream.duration\n",
    "            \n",
    "            # Get the time base\n",
    "            time_base = video_stream.time_base\n",
    "            \n",
    "            # Calculate the duration in seconds\n",
    "            duration_in_seconds = duration_in_units * time_base\n",
    "\n",
    "            # Sample 16 frames\n",
    "            fps = int(container.streams.video[0].average_rate)\n",
    "            seg_len = int(duration_in_seconds) * fps\n",
    "            indices = sample_frame_indices(clip_len=num_images, frame_sample_rate=6, seg_len=seg_len)\n",
    "            video_frames = read_video_pyav(container, indices)\n",
    "            \n",
    "            # Save frames as images\n",
    "            for frame_idx, frame in enumerate(video_frames):\n",
    "                img = Image.fromarray(frame)\n",
    "                filename = f\"image_{idx}_{frame_idx}_{one_row['calfNumber']}_{one_row['parc']}_{one_row['datetime']}_{target}.png\"\n",
    "                img_save_path = os.path.join(dir_path, filename)\n",
    "                img.save(img_save_path)\n",
    "\n",
    "                records.append({\n",
    "                    \"image\": filename,\n",
    "                    \"path\": img_save_path,\n",
    "                    \"label\": target,\n",
    "                    \"calf\": one_row[\"calfNumber\"],\n",
    "                    \"station\": one_row[\"parc\"],\n",
    "                    \"before\": one_row[\"datetime\"],\n",
    "                    \"from\": file[\"path\"]\n",
    "                })\n",
    "            \n",
    "    clear_output()\n",
    "    return pd.DataFrame(records)\n",
    "\n",
    "def extract_from_videos(aptms, mp4_files, root_dir, frame_sample_rate = 4, num_images = 16, bbox_conf = .8, delta = 20, step = 0, model = None):\n",
    "    type2dir = {0: \"Face\", 1: \"Rigth\", 2: \"Left\" }\n",
    "    size = len(aptms)\n",
    "    records = []\n",
    "    for idx in tqdm(range(size), desc=\"Processing items\"):\n",
    "        one_row = aptms.iloc[idx]\n",
    "        target = one_row['State']\n",
    "            \n",
    "        cond = (\n",
    "            (mp4_files[\"start_date\"] == str(one_row.datetime.date()))\n",
    "            & (mp4_files[\"start_time\"] <= one_row.datetime)\n",
    "            & (mp4_files[\"end_time\"] > one_row.datetime)\n",
    "            & (mp4_files[\"station\"] == one_row.parc)\n",
    "        )\n",
    "\n",
    "        if mp4_files[cond].shape[0] == 0:\n",
    "            continue\n",
    "\n",
    "        dir_path = root_dir + \"/\" + target\n",
    "        if not os.path.exists(dir_path):\n",
    "            os.makedirs(dir_path)\n",
    "\n",
    "        for index, file in mp4_files[cond].iterrows():\n",
    "            zero = (one_row[\"datetime\"] - file[\"start_time\"]).total_seconds()\n",
    "            if zero - delta > 0:\n",
    "                break\n",
    "    \n",
    "        video = mp.VideoFileClip(file[\"path\"])\n",
    "        start_at = max(zero - delta, 0)\n",
    "        end_at = max(zero - step, 0)\n",
    "        \n",
    "        if end_at <= start_at or (end_at - start_at) <= 1:\n",
    "            continue\n",
    "            \n",
    "        clip = video.subclip(start_at, end_at)\n",
    "        nfaces = 0\n",
    "        \n",
    "        with tempfile.NamedTemporaryFile(suffix='.mp4') as tmpfile:\n",
    "            clip.write_videofile(tmpfile.name, logger= None)\n",
    "            container = av.open(tmpfile.name)\n",
    "\n",
    "            video_stream = container.streams.video[0]\n",
    "\n",
    "            # Get the duration in time base units\n",
    "            duration_in_units = video_stream.duration\n",
    "            \n",
    "            # Get the time base\n",
    "            time_base = video_stream.time_base\n",
    "            \n",
    "            # Calculate the duration in seconds\n",
    "            duration_in_seconds = duration_in_units * time_base\n",
    "\n",
    "            # Sample 16 frames\n",
    "            fps = int(container.streams.video[0].average_rate)\n",
    "            seg_len = int(duration_in_seconds) * fps\n",
    "            sample_rate = min(int(seg_len / num_images) - 1, frame_sample_rate)\n",
    "            indices = sample_frame_indices(clip_len=num_images, frame_sample_rate=sample_rate, seg_len=seg_len)\n",
    "            video_frames = read_video_pyav(container, indices)\n",
    "            video_images = [Image.fromarray(frame) for frame in video_frames]\n",
    "            results = model.predict(video_images, save=False, imgsz=640, conf=bbox_conf, max_det=1, show=False)\n",
    "\n",
    "            for frame_idx, r in enumerate(results):\n",
    "                if r.boxes.shape[0] == 0:\n",
    "                    continue\n",
    "                else:\n",
    "                    conf = r.boxes.cpu().numpy().conf[0]\n",
    "                    dir_id = r.boxes.cpu().numpy().cls[0]\n",
    "                    x1, y1, width, height =  r.boxes.cpu().numpy().xywh[0]\n",
    "\n",
    "                img = video_images[frame_idx]\n",
    "                filename = f\"image_{idx}_{frame_idx}_{one_row['calfNumber']}_{one_row['parc']}_{one_row['datetime']}_{target}.png\"\n",
    "                img_save_path = os.path.join(dir_path, filename)\n",
    "                img.save(img_save_path)\n",
    "\n",
    "                records.append({\n",
    "                    \"image\": filename,\n",
    "                    \"path\": img_save_path,\n",
    "                    \"label\": target,\n",
    "                    \"calf\": one_row[\"calfNumber\"],\n",
    "                    \"station\": one_row[\"parc\"],\n",
    "                    \"before\": one_row[\"datetime\"],\n",
    "                    \"from\": file[\"path\"],\n",
    "                    \"conf\": conf, \n",
    "                    \"type\": type2dir[dir_id],\n",
    "                    \"box_x\": x1,\n",
    "                    \"box_y\": y1,\n",
    "                    \"box_width\": width,\n",
    "                    \"box_height\": height\n",
    "                })\n",
    "    \n",
    "    clear_output()\n",
    "    return pd.DataFrame(records)"
   ]
  },
  {
   "cell_type": "markdown",
   "id": "73c479a8-b266-4800-b375-2dccd835f99d",
   "metadata": {
    "jp-MarkdownHeadingCollapsed": true
   },
   "source": [
    "## Tests"
   ]
  },
  {
   "cell_type": "code",
   "execution_count": 2,
   "id": "571526a5-5ef9-4f0c-98d1-8d57079e2e27",
   "metadata": {},
   "outputs": [],
   "source": [
    "csv_path = \"video_extracted_metadat.csv\"\n",
    "df = pd.read_csv(csv_path, index_col=False)\n",
    "labels = df.label.unique()\n",
    "\n",
    "label2id = {l:i for i, l in enumerate(labels)}\n",
    "id2label = {i:l for i, l in enumerate(labels)}\n",
    "df['target'] = df.apply(lambda row: label2id[row['label']], axis=1)"
   ]
  },
  {
   "cell_type": "code",
   "execution_count": 4,
   "id": "43415c07-402d-48ab-8f41-65237f95a1eb",
   "metadata": {},
   "outputs": [],
   "source": [
    "base_dir = \"/data/konrad/\"\n",
    "video_path = base_dir + \"video_classification/temp_videos/Pneumonie/clip_2_6786_2_2022-02-25 17:44:54_Pneumonie.mp4\""
   ]
  },
  {
   "cell_type": "code",
   "execution_count": 8,
   "id": "ff7c8e90-cb29-4526-b38d-0202a11a9f43",
   "metadata": {},
   "outputs": [],
   "source": [
    "container = av.open(video_path)\n",
    "\n",
    "# sample 16 frames\n",
    "indices = sample_frame_indices(clip_len=16, frame_sample_rate=1, seg_len=container.streams.video[0].frames)\n",
    "video = read_video_pyav(container, indices)\n",
    "\n",
    "# Save each frame as an image\n",
    "for idx, frame in enumerate(video):\n",
    "    img = Image.fromarray(frame)\n",
    "    img.save(f'temp_images/frame_{idx}.png')"
   ]
  },
  {
   "cell_type": "code",
   "execution_count": 28,
   "id": "e7c7a530-c5ea-4958-945f-b6967d02eebb",
   "metadata": {},
   "outputs": [
    {
     "data": {
      "text/plain": [
       "25"
      ]
     },
     "execution_count": 28,
     "metadata": {},
     "output_type": "execute_result"
    }
   ],
   "source": [
    "int(container.streams.video[0].average_rate)"
   ]
  },
  {
   "cell_type": "code",
   "execution_count": 24,
   "id": "041f20b0-4db6-47b4-a7f7-e708a45433b4",
   "metadata": {},
   "outputs": [
    {
     "name": "stdout",
     "output_type": "stream",
     "text": [
      "Duration in time base units: 256000\n",
      "Time base: 1/12800\n",
      "Duration in seconds: 20\n"
     ]
    }
   ],
   "source": [
    "# Get the video stream\n",
    "video_stream = container.streams.video[0]\n",
    "\n",
    "# Get the duration in time base units\n",
    "duration_in_units = video_stream.duration\n",
    "\n",
    "# Get the time base\n",
    "time_base = video_stream.time_base\n",
    "\n",
    "# Calculate the duration in seconds\n",
    "duration_in_seconds = duration_in_units * time_base\n",
    "\n",
    "print(f\"Duration in time base units: {duration_in_units}\")\n",
    "print(f\"Time base: {time_base}\")\n",
    "print(f\"Duration in seconds: {duration_in_seconds}\")"
   ]
  },
  {
   "cell_type": "code",
   "execution_count": 50,
   "id": "c9a477de-48d9-4162-83a0-9c695105e54b",
   "metadata": {},
   "outputs": [],
   "source": [
    "aptm_with_state = pd.read_csv('aptm_with_state.csv', index_col=False)\n",
    "spaced_aptm_with_state = pd.read_csv('spaced_aptm_with_state.csv', index_col=False)\n",
    "mp4_files = pd.read_csv('mp4_files.csv', index_col=False)\n",
    "\n",
    "spaced_aptm_with_state[\"datetime\"] = pd.to_datetime(spaced_aptm_with_state[\"datetime\"])\n",
    "mp4_files[\"start_time\"] = pd.to_datetime(mp4_files[\"start_time\"])\n",
    "mp4_files[\"end_time\"] = pd.to_datetime(mp4_files[\"end_time\"])"
   ]
  },
  {
   "cell_type": "code",
   "execution_count": 13,
   "id": "b8163b3f-a349-4882-8eac-b46ae037bc43",
   "metadata": {},
   "outputs": [
    {
     "data": {
      "text/plain": [
       "array([159.        , 163.26666667, 167.53333333, 171.8       ,\n",
       "       176.06666667, 180.33333333, 184.6       , 188.86666667,\n",
       "       193.13333333, 197.4       , 201.66666667, 205.93333333,\n",
       "       210.2       , 214.46666667, 218.73333333, 223.        ])"
      ]
     },
     "execution_count": 13,
     "metadata": {},
     "output_type": "execute_result"
    }
   ],
   "source": [
    "frame_sample_rate = 4\n",
    "clip_len = 16\n",
    "seg_len = 500\n",
    "\n",
    "converted_len = int(clip_len * frame_sample_rate)\n",
    "end_idx = np.random.randint(converted_len, seg_len)\n",
    "start_idx = end_idx - converted_len\n",
    "indices = np.linspace(start_idx, end_idx, num=clip_len)\n",
    "# indices = np.clip(indices, start_idx, end_idx - 1).astype(np.int64)\n",
    "indices"
   ]
  },
  {
   "cell_type": "code",
   "execution_count": 14,
   "id": "b41d5e44-6f00-4987-a924-4a6e01fec352",
   "metadata": {},
   "outputs": [
    {
     "data": {
      "text/plain": [
       "array([159, 163, 167, 171, 176, 180, 184, 188, 193, 197, 201, 205, 210,\n",
       "       214, 218, 222])"
      ]
     },
     "execution_count": 14,
     "metadata": {},
     "output_type": "execute_result"
    }
   ],
   "source": [
    "indices = np.clip(indices, start_idx, end_idx - 1).astype(np.int64)\n",
    "indices"
   ]
  },
  {
   "cell_type": "code",
   "execution_count": 15,
   "id": "86406ba7-ff08-41de-b9f7-262a4fb67dcf",
   "metadata": {},
   "outputs": [
    {
     "data": {
      "text/plain": [
       "16"
      ]
     },
     "execution_count": 15,
     "metadata": {},
     "output_type": "execute_result"
    }
   ],
   "source": [
    "len(indices)"
   ]
  },
  {
   "cell_type": "code",
   "execution_count": 16,
   "id": "4b348bd9-4cd7-4755-9419-2062b4447ebd",
   "metadata": {},
   "outputs": [
    {
     "data": {
      "text/plain": [
       "(223, 64, 159)"
      ]
     },
     "execution_count": 16,
     "metadata": {},
     "output_type": "execute_result"
    }
   ],
   "source": [
    "end_idx, converted_len, start_idx"
   ]
  },
  {
   "cell_type": "code",
   "execution_count": 18,
   "id": "00c12277-e2bd-4ae5-81d6-f819031e229f",
   "metadata": {},
   "outputs": [
    {
     "data": {
      "text/plain": [
       "array([  0,  33,  66, 100, 133, 166, 200, 233, 266, 300, 333, 366, 400,\n",
       "       433, 466, 499])"
      ]
     },
     "execution_count": 18,
     "metadata": {},
     "output_type": "execute_result"
    }
   ],
   "source": [
    "indices = np.linspace(0, 500, num=clip_len)\n",
    "indices = np.clip(indices, 0, 500 - 1).astype(np.int64)\n",
    "indices"
   ]
  },
  {
   "cell_type": "code",
   "execution_count": null,
   "id": "1fed4bd6-4274-4026-a9bf-b1625c24d6da",
   "metadata": {},
   "outputs": [],
   "source": [
    "aptm_with_state = pd.read_csv('aptm_with_state.csv', index_col=False)\n",
    "spaced_aptm_with_state = pd.read_csv('spaced_aptm_with_state.csv', index_col=False)\n",
    "mp4_files = pd.read_csv('mp4_files.csv', index_col=False)\n",
    "\n",
    "spaced_aptm_with_state[\"datetime\"] = pd.to_datetime(spaced_aptm_with_state[\"datetime\"])\n",
    "mp4_files[\"start_time\"] = pd.to_datetime(mp4_files[\"start_time\"])\n",
    "mp4_files[\"end_time\"] = pd.to_datetime(mp4_files[\"end_time\"])"
   ]
  },
  {
   "cell_type": "code",
   "execution_count": 67,
   "id": "22872a28-25be-45f5-8cda-71586a4e5552",
   "metadata": {},
   "outputs": [
    {
     "data": {
      "text/plain": [
       "'2022-04-04'"
      ]
     },
     "execution_count": 67,
     "metadata": {},
     "output_type": "execute_result"
    }
   ],
   "source": [
    "str(one_row.datetime.date())"
   ]
  },
  {
   "cell_type": "markdown",
   "id": "e23e7b73-ff62-4277-9a70-57a99762eae1",
   "metadata": {},
   "source": [
    "## Extractions"
   ]
  },
  {
   "cell_type": "code",
   "execution_count": 4,
   "id": "0857220d-4c14-4a7f-bc36-9c50ba2a147e",
   "metadata": {
    "editable": true,
    "slideshow": {
     "slide_type": ""
    },
    "tags": []
   },
   "outputs": [],
   "source": [
    "aptm_with_state = pd.read_csv('aptm_with_state.csv', index_col=False)\n",
    "spaced_aptm_with_state = pd.read_csv('spaced_aptm_with_state.csv', index_col=False)\n",
    "mp4_files = pd.read_csv('mp4_files.csv', index_col=False)\n",
    "\n",
    "spaced_aptm_with_state[\"datetime\"] = pd.to_datetime(spaced_aptm_with_state[\"datetime\"])\n",
    "mp4_files[\"start_time\"] = pd.to_datetime(mp4_files[\"start_time\"])\n",
    "mp4_files[\"end_time\"] = pd.to_datetime(mp4_files[\"end_time\"])"
   ]
  },
  {
   "cell_type": "code",
   "execution_count": 6,
   "id": "45837650-140e-4449-9dc0-490b476b0adf",
   "metadata": {},
   "outputs": [],
   "source": [
    "# Specify the columns to group by and the sample size\n",
    "groupby_cols = ['calfNumber', 'parc', 'State']\n",
    "sample_size = 2000\n",
    "\n",
    "# selected_calf = spaced_aptm_with_state[\"calfNumber\"].value_counts()[spaced_aptm_with_state[\"calfNumber\"].value_counts() > 150].keys()\n",
    "filter_values = {\n",
    "    # 'calfNumber': selected_calf,  # Specify the values you want to include\n",
    "    # 'parc': [1, 2, 10],\n",
    "    'State': ['Diarrhé', 'Pneumonie', 'Healthy']\n",
    "}\n",
    "\n",
    "# Get the uniformly sampled dataframe\n",
    "# sampled_df = uniform_sample(aptm_with_state, sample_size, groupby_cols)\n",
    "aptm_sampled, aptm_rest = uniform_sample_with_values(spaced_aptm_with_state, sample_size, groupby_cols, filter_values = filter_values)\n",
    "aptm_sampled = aptm_sampled.sample(frac=1).reset_index(drop=True)\n",
    "\n",
    "# Ignoring balancing or sampling of dataset\n",
    "aptm_sampled = spaced_aptm_with_state"
   ]
  },
  {
   "cell_type": "code",
   "execution_count": 6,
   "id": "6b037813-9b71-4f0d-8923-bec09ebffe73",
   "metadata": {},
   "outputs": [
    {
     "data": {
      "text/html": [
       "<div>\n",
       "<style scoped>\n",
       "    .dataframe tbody tr th:only-of-type {\n",
       "        vertical-align: middle;\n",
       "    }\n",
       "\n",
       "    .dataframe tbody tr th {\n",
       "        vertical-align: top;\n",
       "    }\n",
       "\n",
       "    .dataframe thead th {\n",
       "        text-align: right;\n",
       "    }\n",
       "</style>\n",
       "<table border=\"1\" class=\"dataframe\">\n",
       "  <thead>\n",
       "    <tr style=\"text-align: right;\">\n",
       "      <th></th>\n",
       "      <th>station</th>\n",
       "      <th>start_at</th>\n",
       "      <th>end_at</th>\n",
       "      <th>path</th>\n",
       "      <th>start_time</th>\n",
       "      <th>end_time</th>\n",
       "      <th>start_date</th>\n",
       "      <th>start_hour</th>\n",
       "      <th>start_mn</th>\n",
       "    </tr>\n",
       "  </thead>\n",
       "  <tbody>\n",
       "    <tr>\n",
       "      <th>374</th>\n",
       "      <td>1</td>\n",
       "      <td>2022-03-01T15:00:00</td>\n",
       "      <td>2022-03-01T16:00:00</td>\n",
       "      <td>/data/public/heureux_2022-02-16_2022-04-16/202...</td>\n",
       "      <td>2022-03-01 15:00:00</td>\n",
       "      <td>2022-03-01 16:00:00</td>\n",
       "      <td>2022-03-01</td>\n",
       "      <td>15</td>\n",
       "      <td>0</td>\n",
       "    </tr>\n",
       "  </tbody>\n",
       "</table>\n",
       "</div>"
      ],
      "text/plain": [
       "     station             start_at               end_at  \\\n",
       "374        1  2022-03-01T15:00:00  2022-03-01T16:00:00   \n",
       "\n",
       "                                                  path          start_time  \\\n",
       "374  /data/public/heureux_2022-02-16_2022-04-16/202... 2022-03-01 15:00:00   \n",
       "\n",
       "               end_time  start_date  start_hour  start_mn  \n",
       "374 2022-03-01 16:00:00  2022-03-01          15         0  "
      ]
     },
     "execution_count": 6,
     "metadata": {},
     "output_type": "execute_result"
    }
   ],
   "source": [
    "one_row = aptm_sampled.iloc[330]\n",
    "target = one_row['State']\n",
    "\n",
    "cond = (\n",
    "    (mp4_files[\"start_date\"] == str(one_row.datetime.date()))\n",
    "    & (mp4_files[\"start_time\"] <= one_row.datetime)\n",
    "    & (mp4_files[\"end_time\"] > one_row.datetime)\n",
    "    # & (mp4_files[\"start_hour\"] == one_row.datetime.hour)\n",
    "    # & (mp4_files[\"start_mn\"] <= one_row.datetime.minute)\n",
    "    & (mp4_files[\"station\"] == one_row.parc)\n",
    "    # (mp4_files[\"station\"] == one_row.parc)\n",
    ")\n",
    "mp4_files[cond]"
   ]
  },
  {
   "cell_type": "code",
   "execution_count": 7,
   "id": "b94dfa1f-1b99-4b21-821c-51fa30f99f96",
   "metadata": {},
   "outputs": [],
   "source": [
    "ROOT_DIR = \"/data/konrad\"\n",
    "yolo = YOLO( ROOT_DIR + \"/datasets/models/best-ft-detector.pt\")"
   ]
  },
  {
   "cell_type": "code",
   "execution_count": 8,
   "id": "f4c44c12-5bf7-4ca4-9f22-18561e5ce431",
   "metadata": {},
   "outputs": [
    {
     "name": "stdout",
     "output_type": "stream",
     "text": [
      "Time of execution: 03:04:50 from 11090.50006556511\n"
     ]
    }
   ],
   "source": [
    "# Start time\n",
    "start_time = time.time()\n",
    "\n",
    "frame = 10\n",
    "step = 2\n",
    "frame_sample_rate = 4\n",
    "num_images = 20\n",
    "bbox_conf = .8\n",
    "delta = frame + step\n",
    "# root_dir = ROOT_DIR + \"/datasets/images\"\n",
    "# root_dir = \"temp_images\"\n",
    "root_dir = f\"/data/data_calves/konrad/images_{num_images}_{frame}_{step}/\"\n",
    "# directory = root_dir + \"train\"\n",
    "\n",
    "\n",
    "# records = extract_from_videos(aptm_sampled.iloc[:10], mp4_files, root_dir, delta = delta, step = step, frame_sample_rate = frame_sample_rate, num_images = num_images, model = yolo, bbox_conf = bbox_conf)\n",
    "records = extract_from_videos(aptm_sampled, mp4_files, root_dir, delta = delta, step = step, frame_sample_rate = frame_sample_rate, num_images = num_images, model = yolo, bbox_conf = bbox_conf)\n",
    "\n",
    "# End time\n",
    "end_time = time.time()\n",
    "\n",
    "# Calculate elapsed time\n",
    "elapsed_time = end_time - start_time\n",
    "\n",
    "formatted_time = format_time(elapsed_time)\n",
    "\n",
    "# Display the elapsed time\n",
    "print(f\"Time of execution: {formatted_time} from {elapsed_time}\")\n",
    "records.to_csv('images_extracted_metadata.csv', index=False)"
   ]
  },
  {
   "cell_type": "code",
   "execution_count": 9,
   "id": "e2c3f752-2176-490e-881f-dd3de4821727",
   "metadata": {},
   "outputs": [
    {
     "data": {
      "text/plain": [
       "((1317, 13), (3657, 7))"
      ]
     },
     "execution_count": 9,
     "metadata": {},
     "output_type": "execute_result"
    }
   ],
   "source": [
    "records.shape, aptm_sampled.shape"
   ]
  },
  {
   "cell_type": "code",
   "execution_count": 12,
   "id": "8fbfde92-2c18-4da4-87d4-a8af030ad2dd",
   "metadata": {},
   "outputs": [
    {
     "data": {
      "image/png": "[encoded data removed]",
      "text/plain": [
       "<Figure size 800x600 with 1 Axes>"
      ]
     },
     "metadata": {},
     "output_type": "display_data"
    }
   ],
   "source": [
    "# Count the occurrences of each class\n",
    "class_counts = records['type'].value_counts()\n",
    "\n",
    "# Plot the distribution\n",
    "plt.figure(figsize=(8, 6))\n",
    "class_counts.plot(kind='bar')\n",
    "plt.title('Distribution of calf')\n",
    "plt.xlabel('calf')\n",
    "plt.ylabel('Count')\n",
    "plt.xticks(rotation=45)\n",
    "plt.grid(axis='y', linestyle='--', alpha=0.7)\n",
    "plt.show()"
   ]
  },
  {
   "cell_type": "code",
   "execution_count": 20,
   "id": "e02cd2d7-a01a-40e4-901c-268099d656ac",
   "metadata": {},
   "outputs": [
    {
     "data": {
      "image/png": "[encoded data removed]",
      "text/plain": [
       "<Figure size 1200x600 with 1 Axes>"
      ]
     },
     "metadata": {},
     "output_type": "display_data"
    }
   ],
   "source": [
    "# Count the occurrences of each class\n",
    "class_counts = records[~records[\"label\"].isin(['Unknown', 'Diarrhé, Pneumonie'])]['calf'].value_counts()\n",
    "\n",
    "# Plot the distribution\n",
    "plt.figure(figsize=(12, 6))\n",
    "class_counts.plot(kind='bar')\n",
    "plt.title('Distribution of calf')\n",
    "plt.xlabel('calf')\n",
    "plt.ylabel('Count')\n",
    "plt.xticks(rotation=45)\n",
    "plt.grid(axis='y', linestyle='--', alpha=0.7)\n",
    "plt.show()"
   ]
  },
  {
   "cell_type": "code",
   "execution_count": 19,
   "id": "7b7c2d52-a877-4901-a275-d82812e7750c",
   "metadata": {},
   "outputs": [
    {
     "data": {
      "image/png": "[encoded data removed]",
      "text/plain": [
       "<Figure size 2000x600 with 1 Axes>"
      ]
     },
     "metadata": {},
     "output_type": "display_data"
    }
   ],
   "source": [
    "# Group by label and calf, and count the occurrences\n",
    "sub_train_df = records[~records[\"label\"].isin(['Unknown', 'Diarrhé, Pneumonie'])]\n",
    "calf_distribution = sub_train_df.groupby(['label', 'calf']).size().reset_index(name='count').sort_values(by=\"count\")\n",
    "\n",
    "# Plotting the distribution as a barplot\n",
    "plt.figure(figsize=(20, 6))\n",
    "sns.barplot(x='calf', y='count', hue='label', data=calf_distribution, palette='viridis')\n",
    "plt.title('Distribution of Calf as a Function of Label')\n",
    "plt.xlabel('Calf')\n",
    "plt.ylabel('Count')\n",
    "plt.xticks(rotation=90)\n",
    "plt.grid(axis='y', linestyle='--', alpha=0.7)\n",
    "plt.show()"
   ]
  }
 ],
 "metadata": {
  "kernelspec": {
   "display_name": "Python (jpt_env)",
   "language": "python",
   "name": "jupiter_env"
  },
  "language_info": {
   "codemirror_mode": {
    "name": "ipython",
    "version": 3
   },
   "file_extension": ".py",
   "mimetype": "text/x-python",
   "name": "python",
   "nbconvert_exporter": "python",
   "pygments_lexer": "ipython3",
   "version": "3.10.12"
  }
 },
 "nbformat": 4,
 "nbformat_minor": 5
}
